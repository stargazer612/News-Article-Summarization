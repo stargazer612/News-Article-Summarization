{
  "nbformat": 4,
  "nbformat_minor": 0,
  "metadata": {
    "kernelspec": {
      "language": "python",
      "display_name": "Python 3",
      "name": "python3"
    },
    "language_info": {
      "pygments_lexer": "ipython3",
      "nbconvert_exporter": "python",
      "version": "3.6.4",
      "file_extension": ".py",
      "codemirror_mode": {
        "name": "ipython",
        "version": 3
      },
      "name": "python",
      "mimetype": "text/x-python"
    },
    "colab": {
      "name": "News_Summarization_Final.ipynb",
      "provenance": [],
      "collapsed_sections": [
        "9dS0J-5ZYffs"
      ]
    },
    "accelerator": "GPU"
  },
  "cells": [
    {
      "cell_type": "markdown",
      "metadata": {
        "id": "9dS0J-5ZYffs"
      },
      "source": [
        "##**News Summarization using RNNS with Attention based networks**\n"
      ]
    },
    {
      "cell_type": "markdown",
      "metadata": {
        "id": "PSm8wEITZFXa"
      },
      "source": [
        "#Group Members\n",
        "\n",
        "\n"
      ]
    },
    {
      "cell_type": "markdown",
      "metadata": {
        "id": "JUValOzcHtEK"
      },
      "source": [
        "\n",
        "##Import the Libraries"
      ]
    },
    {
      "cell_type": "code",
      "source": [
        "from google.colab import drive\n",
        "drive.mount('/content/drive',force_remount=True)"
      ],
      "metadata": {
        "colab": {
          "base_uri": "https://localhost:8080/"
        },
        "id": "A16JViyW1thz",
        "outputId": "8905d650-52e2-4df1-c7de-8ea000551b6c"
      },
      "execution_count": null,
      "outputs": [
        {
          "output_type": "stream",
          "name": "stdout",
          "text": [
            "Mounted at /content/drive\n"
          ]
        }
      ]
    },
    {
      "cell_type": "code",
      "metadata": {
        "_uuid": "8f2839f25d086af736a60e9eeb907d3b93b6e0e5",
        "_cell_guid": "b1076dfc-b9ad-4769-8c92-a6c4dae69d19",
        "id": "_Jpu8qLEFxcY",
        "execution": {
          "iopub.status.busy": "2021-10-22T13:25:56.563529Z",
          "iopub.execute_input": "2021-10-22T13:25:56.563821Z",
          "iopub.status.idle": "2021-10-22T13:25:58.045684Z",
          "shell.execute_reply.started": "2021-10-22T13:25:56.563777Z",
          "shell.execute_reply": "2021-10-22T13:25:58.044706Z"
        },
        "trusted": true
      },
      "source": [
        "import tensorflow as tf\n",
        "import os\n",
        "from tensorflow.keras.layers import Layer\n",
        "from tensorflow.keras import backend as K\n",
        "import keras\n",
        "import keras.utils\n",
        "from keras import utils as np_utils\n",
        "\n",
        "import numpy as np\n",
        "import pandas as pd \n",
        "import re\n",
        "from bs4 import BeautifulSoup\n",
        "from keras.preprocessing.text import Tokenizer \n",
        "from keras.preprocessing.sequence import pad_sequences\n",
        "from nltk.corpus import stopwords\n",
        "from tensorflow.keras.layers import Input, LSTM, Embedding, Dense, Concatenate, TimeDistributed\n",
        "from tensorflow.keras.models import Model\n",
        "from tensorflow.keras.callbacks import EarlyStopping\n",
        "import warnings\n",
        "pd.set_option(\"display.max_colwidth\", 200)\n",
        "warnings.filterwarnings(\"ignore\")\n"
      ],
      "execution_count": null,
      "outputs": []
    },
    {
      "cell_type": "markdown",
      "metadata": {
        "id": "UVakjZ3oICgx"
      },
      "source": [
        "## Downloading the Data from Kaggle\n",
        "\n",
        "Here we connect to kaggle using kaggle.json to download the relevant dataset from kaggle directly into colab. Please make sure to generate and save kaggle.json prior to running this cell. As this will prompt you to upload kaggle.json file.\n"
      ]
    },
    {
      "cell_type": "code",
      "metadata": {
        "id": "Gu5-FmeM1w0n"
      },
      "source": [
        " ! pip install -q kaggle"
      ],
      "execution_count": null,
      "outputs": []
    },
    {
      "cell_type": "code",
      "metadata": {
        "colab": {
          "resources": {
            "http://localhost:8080/nbextensions/google.colab/files.js": {
              "data": "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",
              "ok": true,
              "headers": [
                [
                  "content-type",
                  "application/javascript"
                ]
              ],
              "status": 200,
              "status_text": ""
            }
          },
          "base_uri": "https://localhost:8080/",
          "height": 90
        },
        "id": "2tq5V2LK2FsP",
        "outputId": "fda1daf8-8e44-459d-9282-13a1a1ac1301"
      },
      "source": [
        "from google.colab import files\n",
        "files.upload()"
      ],
      "execution_count": null,
      "outputs": [
        {
          "output_type": "display_data",
          "data": {
            "text/plain": [
              "<IPython.core.display.HTML object>"
            ],
            "text/html": [
              "\n",
              "     <input type=\"file\" id=\"files-cc741b8d-03b8-4ca6-b35d-954c727c57c1\" name=\"files[]\" multiple disabled\n",
              "        style=\"border:none\" />\n",
              "     <output id=\"result-cc741b8d-03b8-4ca6-b35d-954c727c57c1\">\n",
              "      Upload widget is only available when the cell has been executed in the\n",
              "      current browser session. Please rerun this cell to enable.\n",
              "      </output>\n",
              "      <script src=\"/nbextensions/google.colab/files.js\"></script> "
            ]
          },
          "metadata": {}
        },
        {
          "output_type": "stream",
          "name": "stdout",
          "text": [
            "Saving kaggle.json to kaggle.json\n"
          ]
        },
        {
          "output_type": "execute_result",
          "data": {
            "text/plain": [
              "{'kaggle.json': b'{\"username\":\"vifulnirala20\",\"key\":\"992f1c212f0e579b12cd46eea143f48f\"}'}"
            ]
          },
          "metadata": {},
          "execution_count": 4
        }
      ]
    },
    {
      "cell_type": "code",
      "metadata": {
        "id": "EZbEeQJF2YWL"
      },
      "source": [
        "! mkdir ~/.kaggle"
      ],
      "execution_count": null,
      "outputs": []
    },
    {
      "cell_type": "code",
      "metadata": {
        "id": "1Pn1dmCB2bAJ"
      },
      "source": [
        "! cp kaggle.json ~/.kaggle/"
      ],
      "execution_count": null,
      "outputs": []
    },
    {
      "cell_type": "code",
      "metadata": {
        "id": "fcCBUomc2dka"
      },
      "source": [
        "! chmod 600 ~/.kaggle/kaggle.json"
      ],
      "execution_count": null,
      "outputs": []
    },
    {
      "cell_type": "code",
      "metadata": {
        "colab": {
          "base_uri": "https://localhost:8080/"
        },
        "id": "LVa1NgTX2gTU",
        "outputId": "b0d5d570-f29d-498c-9b80-67c20bbeaa60"
      },
      "source": [
        " ! kaggle datasets list"
      ],
      "execution_count": null,
      "outputs": [
        {
          "output_type": "stream",
          "name": "stdout",
          "text": [
            "ref                                                                            title                                             size  lastUpdated          downloadCount  voteCount  usabilityRating  \n",
            "-----------------------------------------------------------------------------  -----------------------------------------------  -----  -------------------  -------------  ---------  ---------------  \n",
            "datasets/muratkokludataset/acoustic-extinguisher-fire-dataset                  Acoustic Extinguisher Fire Dataset               621KB  2022-04-02 22:59:36            799        635  0.9375           \n",
            "datasets/muratkokludataset/rice-image-dataset                                  Rice Image Dataset                               219MB  2022-04-03 02:12:00            821        590  0.875            \n",
            "datasets/mdmahmudulhasansuzan/students-adaptability-level-in-online-education  Students Adaptability Level in Online Education    6KB  2022-04-16 04:46:28           3209         79  1.0              \n",
            "datasets/muratkokludataset/raisin-dataset                                      Raisin Dataset                                   112KB  2022-04-03 00:23:16            360        517  0.9375           \n",
            "datasets/muratkokludataset/pistachio-dataset                                   Pistachio Dataset                                  2MB  2022-04-03 08:38:21            456        539  0.9375           \n",
            "datasets/muratkokludataset/dry-bean-dataset                                    Dry Bean Dataset                                   5MB  2022-04-02 23:19:30            275        520  0.9375           \n",
            "datasets/muratkokludataset/pistachio-image-dataset                             Pistachio Image Dataset                           27MB  2022-03-28 18:01:27            306        576  0.9375           \n",
            "datasets/muratkokludataset/grapevine-leaves-image-dataset                      Grapevine Leaves Image Dataset                   109MB  2022-04-03 09:00:54            105        549  0.875            \n",
            "datasets/muratkokludataset/rice-msc-dataset                                    Rice MSC Dataset                                 102MB  2022-04-03 01:33:52            158        511  0.875            \n",
            "datasets/muratkokludataset/pumpkin-seeds-dataset                               Pumpkin Seeds Dataset                            393KB  2022-03-28 18:28:16            360        516  0.9375           \n",
            "datasets/muratkokludataset/durum-wheat-dataset                                 Durum Wheat Dataset                              983MB  2022-04-03 00:02:29             63        524  0.875            \n",
            "datasets/muratkokludataset/rice-dataset-commeo-and-osmancik                    Rice Dataset Commeo and Osmancik                 524KB  2022-04-03 00:40:03             79        503  0.875            \n",
            "datasets/muhmores/spotify-top-100-songs-of-20152019                            Spotify Top 100 Songs of 2010-2019               139KB  2022-04-09 06:35:36           3902         88  0.88235295       \n",
            "datasets/rinichristy/covid19-coronavirus-pandemic                              COVID-19 Coronavirus Pandemic                      9KB  2022-04-05 08:43:16           2442         50  1.0              \n",
            "datasets/aslanahmedov/walmart-sales-forecast                                   Walmart Sales Forecast                             3MB  2022-04-21 05:28:20           1587         46  1.0              \n",
            "datasets/digvijaysinhgohil/covid19-data-deaths-and-vaccinations                Covid-19 Data Deaths and Vaccinations              2MB  2022-05-04 19:06:58            260         15  0.9411765        \n",
            "datasets/alexandrparkhomenko/top-apps-in-google-play                           Top Apps in Google Play                            3KB  2022-04-29 05:16:34            655         32  1.0              \n",
            "datasets/samuelcortinhas/credit-card-approval-clean-data                       Credit Card Approvals (Clean Data)                19KB  2022-04-25 15:52:35           1220         33  1.0              \n",
            "datasets/awsaf49/uwmgi-mask-dataset                                            UWMGI: Mask Dataset                               77MB  2022-04-24 17:46:47            463         35  0.7647059        \n",
            "datasets/xhlulu/cpc-codes                                                      Cooperative Patent Classification Codes Meaning    5MB  2022-03-22 03:04:36           1612        119  1.0              \n"
          ]
        }
      ]
    },
    {
      "cell_type": "code",
      "metadata": {
        "colab": {
          "base_uri": "https://localhost:8080/"
        },
        "id": "zn24DBzK2jKp",
        "outputId": "da82a049-ba9d-41b8-8f72-233f74407d58"
      },
      "source": [
        "! kaggle datasets download sunnysai12345/news-summary"
      ],
      "execution_count": null,
      "outputs": [
        {
          "output_type": "stream",
          "name": "stdout",
          "text": [
            "Downloading news-summary.zip to /content\n",
            "\r  0% 0.00/19.8M [00:00<?, ?B/s]\n",
            "\r100% 19.8M/19.8M [00:00<00:00, 218MB/s]\n"
          ]
        }
      ]
    },
    {
      "cell_type": "code",
      "metadata": {
        "colab": {
          "base_uri": "https://localhost:8080/"
        },
        "id": "oPoU83Xa2lxY",
        "outputId": "876561f8-01e1-4127-f9f6-3c3ee2e39cf6"
      },
      "source": [
        "! unzip news-summary.zip"
      ],
      "execution_count": null,
      "outputs": [
        {
          "output_type": "stream",
          "name": "stdout",
          "text": [
            "Archive:  news-summary.zip\n",
            "  inflating: news_summary.csv        \n",
            "  inflating: news_summary_more.csv   \n"
          ]
        }
      ]
    },
    {
      "cell_type": "markdown",
      "metadata": {
        "id": "OijMhU2vgIlZ"
      },
      "source": [
        "# Preprocessing of Data"
      ]
    },
    {
      "cell_type": "code",
      "metadata": {
        "id": "wnK5o4Z1Fxcj",
        "execution": {
          "iopub.status.busy": "2021-10-22T13:25:58.047093Z",
          "iopub.execute_input": "2021-10-22T13:25:58.047429Z",
          "iopub.status.idle": "2021-10-22T13:26:02.00977Z",
          "shell.execute_reply.started": "2021-10-22T13:25:58.047388Z",
          "shell.execute_reply": "2021-10-22T13:26:02.008662Z"
        },
        "trusted": true,
        "colab": {
          "base_uri": "https://localhost:8080/"
        },
        "outputId": "47f829bf-c68f-4d1b-e0b3-e1fb1d85be5b"
      },
      "source": [
        "data = pd.read_csv(\"/content/news_summary_more.csv\",  encoding='latin-1')\n",
        "data_more = pd.read_csv(\"/content/news_summary.csv\",  encoding='latin-1')\n",
        "data.shape"
      ],
      "execution_count": null,
      "outputs": [
        {
          "output_type": "execute_result",
          "data": {
            "text/plain": [
              "(98401, 2)"
            ]
          },
          "metadata": {},
          "execution_count": 11
        }
      ]
    },
    {
      "cell_type": "code",
      "metadata": {
        "colab": {
          "base_uri": "https://localhost:8080/"
        },
        "id": "kuIPUOq5ieX4",
        "outputId": "8ea0d2e8-a9de-423d-f7cf-008402f627bd"
      },
      "source": [
        "data_more.shape"
      ],
      "execution_count": null,
      "outputs": [
        {
          "output_type": "execute_result",
          "data": {
            "text/plain": [
              "(4514, 6)"
            ]
          },
          "metadata": {},
          "execution_count": 12
        }
      ]
    },
    {
      "cell_type": "code",
      "metadata": {
        "colab": {
          "base_uri": "https://localhost:8080/",
          "height": 641
        },
        "id": "MjKrOVlPi6ug",
        "outputId": "183b3a5d-69de-4294-d923-6c9d5645d715"
      },
      "source": [
        "data"
      ],
      "execution_count": null,
      "outputs": [
        {
          "output_type": "execute_result",
          "data": {
            "text/plain": [
              "                                                                 headlines  \\\n",
              "0        upGrad learner switches to career in ML & Al with 90% salary hike   \n",
              "1             Delhi techie wins free food from Swiggy for one year on CRED   \n",
              "2         New Zealand end Rohit Sharma-led India's 12-match winning streak   \n",
              "3                 Aegon life iTerm insurance plan helps customers save tax   \n",
              "4      Have known Hirani for yrs, what if MeToo claims are not true: Sonam   \n",
              "...                                                                    ...   \n",
              "98396                  CRPF jawan axed to death by Maoists in Chhattisgarh   \n",
              "98397         First song from Sonakshi Sinha's 'Noor' titled 'Uff Yeh' out   \n",
              "98398                           'The Matrix' film to get a reboot: Reports   \n",
              "98399          Snoop Dogg aims gun at clown dressed as Trump in new video    \n",
              "98400              Madhesi Morcha withdraws support to Nepalese government   \n",
              "\n",
              "                                                                                                                                                                                                          text  \n",
              "0      Saurav Kant, an alumnus of upGrad and IIIT-B's PG Program in Machine learning and Artificial Intelligence, was a Sr Systems Engineer at Infosys with almost 5 years of work experience. The program ...  \n",
              "1      Kunal Shah's credit card bill payment platform, CRED, gave users a chance to win free food from Swiggy for one year. Pranav Kaushik, a Delhi techie, bagged this reward after spending 2000 CRED coi...  \n",
              "2      New Zealand defeated India by 8 wickets in the fourth ODI at Hamilton on Thursday to win their first match of the five-match ODI series. India lost an international match under Rohit Sharma's capt...  \n",
              "3      With Aegon Life iTerm Insurance plan, customers can enjoy tax benefits on your premiums paid and save up to Ã¢ÂÂ¹46,800^ on taxes. The plan provides life cover up to the age of 100 years. Also, c...  \n",
              "4      Speaking about the sexual harassment allegations against Rajkumar Hirani, Sonam Kapoor said, \"I've known Hirani for many years...What if it's not true, the [#MeToo] movement will get derailed.\" \"I...  \n",
              "...                                                                                                                                                                                                        ...  \n",
              "98396  A CRPF jawan was on Tuesday axed to death with sharp-edged weapons by Maoists at a local village fair in Chhattisgarh's insurgency-hit Bijapur district. As per preliminary information, Maoists att...  \n",
              "98397  'Uff Yeh', the first song from the Sonakshi Sinha starrer upcoming drama film 'Noor' has been released. The song has been composed by Amaal Mallik with vocals by Armaan Malik and lyrics by Manoj M...  \n",
              "98398  According to reports, a new version of the 1999 science fiction film 'The Matrix' is in development. Michael B Jordan will reportedly play the lead role in the film. Screenwriter Zak Penn is in ta...  \n",
              "98399  A new music video shows rapper Snoop Dogg aiming a toy gun at a clown character parodying US President Donald Trump. The video also shows a TV airing a news conference with the headline 'Ronald Kl...  \n",
              "98400  Madhesi Morcha, an alliance of seven political parties, has withdrawn support to PM Pushpa Kamal Dahal-led Nepal government after it failed to meet a seven-day ultimatum to fulfil their demands in...  \n",
              "\n",
              "[98401 rows x 2 columns]"
            ],
            "text/html": [
              "\n",
              "  <div id=\"df-fc9117a6-fd3b-4094-b79d-f482c291fd58\">\n",
              "    <div class=\"colab-df-container\">\n",
              "      <div>\n",
              "<style scoped>\n",
              "    .dataframe tbody tr th:only-of-type {\n",
              "        vertical-align: middle;\n",
              "    }\n",
              "\n",
              "    .dataframe tbody tr th {\n",
              "        vertical-align: top;\n",
              "    }\n",
              "\n",
              "    .dataframe thead th {\n",
              "        text-align: right;\n",
              "    }\n",
              "</style>\n",
              "<table border=\"1\" class=\"dataframe\">\n",
              "  <thead>\n",
              "    <tr style=\"text-align: right;\">\n",
              "      <th></th>\n",
              "      <th>headlines</th>\n",
              "      <th>text</th>\n",
              "    </tr>\n",
              "  </thead>\n",
              "  <tbody>\n",
              "    <tr>\n",
              "      <th>0</th>\n",
              "      <td>upGrad learner switches to career in ML &amp; Al with 90% salary hike</td>\n",
              "      <td>Saurav Kant, an alumnus of upGrad and IIIT-B's PG Program in Machine learning and Artificial Intelligence, was a Sr Systems Engineer at Infosys with almost 5 years of work experience. The program ...</td>\n",
              "    </tr>\n",
              "    <tr>\n",
              "      <th>1</th>\n",
              "      <td>Delhi techie wins free food from Swiggy for one year on CRED</td>\n",
              "      <td>Kunal Shah's credit card bill payment platform, CRED, gave users a chance to win free food from Swiggy for one year. Pranav Kaushik, a Delhi techie, bagged this reward after spending 2000 CRED coi...</td>\n",
              "    </tr>\n",
              "    <tr>\n",
              "      <th>2</th>\n",
              "      <td>New Zealand end Rohit Sharma-led India's 12-match winning streak</td>\n",
              "      <td>New Zealand defeated India by 8 wickets in the fourth ODI at Hamilton on Thursday to win their first match of the five-match ODI series. India lost an international match under Rohit Sharma's capt...</td>\n",
              "    </tr>\n",
              "    <tr>\n",
              "      <th>3</th>\n",
              "      <td>Aegon life iTerm insurance plan helps customers save tax</td>\n",
              "      <td>With Aegon Life iTerm Insurance plan, customers can enjoy tax benefits on your premiums paid and save up to Ã¢ÂÂ¹46,800^ on taxes. The plan provides life cover up to the age of 100 years. Also, c...</td>\n",
              "    </tr>\n",
              "    <tr>\n",
              "      <th>4</th>\n",
              "      <td>Have known Hirani for yrs, what if MeToo claims are not true: Sonam</td>\n",
              "      <td>Speaking about the sexual harassment allegations against Rajkumar Hirani, Sonam Kapoor said, \"I've known Hirani for many years...What if it's not true, the [#MeToo] movement will get derailed.\" \"I...</td>\n",
              "    </tr>\n",
              "    <tr>\n",
              "      <th>...</th>\n",
              "      <td>...</td>\n",
              "      <td>...</td>\n",
              "    </tr>\n",
              "    <tr>\n",
              "      <th>98396</th>\n",
              "      <td>CRPF jawan axed to death by Maoists in Chhattisgarh</td>\n",
              "      <td>A CRPF jawan was on Tuesday axed to death with sharp-edged weapons by Maoists at a local village fair in Chhattisgarh's insurgency-hit Bijapur district. As per preliminary information, Maoists att...</td>\n",
              "    </tr>\n",
              "    <tr>\n",
              "      <th>98397</th>\n",
              "      <td>First song from Sonakshi Sinha's 'Noor' titled 'Uff Yeh' out</td>\n",
              "      <td>'Uff Yeh', the first song from the Sonakshi Sinha starrer upcoming drama film 'Noor' has been released. The song has been composed by Amaal Mallik with vocals by Armaan Malik and lyrics by Manoj M...</td>\n",
              "    </tr>\n",
              "    <tr>\n",
              "      <th>98398</th>\n",
              "      <td>'The Matrix' film to get a reboot: Reports</td>\n",
              "      <td>According to reports, a new version of the 1999 science fiction film 'The Matrix' is in development. Michael B Jordan will reportedly play the lead role in the film. Screenwriter Zak Penn is in ta...</td>\n",
              "    </tr>\n",
              "    <tr>\n",
              "      <th>98399</th>\n",
              "      <td>Snoop Dogg aims gun at clown dressed as Trump in new video</td>\n",
              "      <td>A new music video shows rapper Snoop Dogg aiming a toy gun at a clown character parodying US President Donald Trump. The video also shows a TV airing a news conference with the headline 'Ronald Kl...</td>\n",
              "    </tr>\n",
              "    <tr>\n",
              "      <th>98400</th>\n",
              "      <td>Madhesi Morcha withdraws support to Nepalese government</td>\n",
              "      <td>Madhesi Morcha, an alliance of seven political parties, has withdrawn support to PM Pushpa Kamal Dahal-led Nepal government after it failed to meet a seven-day ultimatum to fulfil their demands in...</td>\n",
              "    </tr>\n",
              "  </tbody>\n",
              "</table>\n",
              "<p>98401 rows × 2 columns</p>\n",
              "</div>\n",
              "      <button class=\"colab-df-convert\" onclick=\"convertToInteractive('df-fc9117a6-fd3b-4094-b79d-f482c291fd58')\"\n",
              "              title=\"Convert this dataframe to an interactive table.\"\n",
              "              style=\"display:none;\">\n",
              "        \n",
              "  <svg xmlns=\"http://www.w3.org/2000/svg\" height=\"24px\"viewBox=\"0 0 24 24\"\n",
              "       width=\"24px\">\n",
              "    <path d=\"M0 0h24v24H0V0z\" fill=\"none\"/>\n",
              "    <path d=\"M18.56 5.44l.94 2.06.94-2.06 2.06-.94-2.06-.94-.94-2.06-.94 2.06-2.06.94zm-11 1L8.5 8.5l.94-2.06 2.06-.94-2.06-.94L8.5 2.5l-.94 2.06-2.06.94zm10 10l.94 2.06.94-2.06 2.06-.94-2.06-.94-.94-2.06-.94 2.06-2.06.94z\"/><path d=\"M17.41 7.96l-1.37-1.37c-.4-.4-.92-.59-1.43-.59-.52 0-1.04.2-1.43.59L10.3 9.45l-7.72 7.72c-.78.78-.78 2.05 0 2.83L4 21.41c.39.39.9.59 1.41.59.51 0 1.02-.2 1.41-.59l7.78-7.78 2.81-2.81c.8-.78.8-2.07 0-2.86zM5.41 20L4 18.59l7.72-7.72 1.47 1.35L5.41 20z\"/>\n",
              "  </svg>\n",
              "      </button>\n",
              "      \n",
              "  <style>\n",
              "    .colab-df-container {\n",
              "      display:flex;\n",
              "      flex-wrap:wrap;\n",
              "      gap: 12px;\n",
              "    }\n",
              "\n",
              "    .colab-df-convert {\n",
              "      background-color: #E8F0FE;\n",
              "      border: none;\n",
              "      border-radius: 50%;\n",
              "      cursor: pointer;\n",
              "      display: none;\n",
              "      fill: #1967D2;\n",
              "      height: 32px;\n",
              "      padding: 0 0 0 0;\n",
              "      width: 32px;\n",
              "    }\n",
              "\n",
              "    .colab-df-convert:hover {\n",
              "      background-color: #E2EBFA;\n",
              "      box-shadow: 0px 1px 2px rgba(60, 64, 67, 0.3), 0px 1px 3px 1px rgba(60, 64, 67, 0.15);\n",
              "      fill: #174EA6;\n",
              "    }\n",
              "\n",
              "    [theme=dark] .colab-df-convert {\n",
              "      background-color: #3B4455;\n",
              "      fill: #D2E3FC;\n",
              "    }\n",
              "\n",
              "    [theme=dark] .colab-df-convert:hover {\n",
              "      background-color: #434B5C;\n",
              "      box-shadow: 0px 1px 3px 1px rgba(0, 0, 0, 0.15);\n",
              "      filter: drop-shadow(0px 1px 2px rgba(0, 0, 0, 0.3));\n",
              "      fill: #FFFFFF;\n",
              "    }\n",
              "  </style>\n",
              "\n",
              "      <script>\n",
              "        const buttonEl =\n",
              "          document.querySelector('#df-fc9117a6-fd3b-4094-b79d-f482c291fd58 button.colab-df-convert');\n",
              "        buttonEl.style.display =\n",
              "          google.colab.kernel.accessAllowed ? 'block' : 'none';\n",
              "\n",
              "        async function convertToInteractive(key) {\n",
              "          const element = document.querySelector('#df-fc9117a6-fd3b-4094-b79d-f482c291fd58');\n",
              "          const dataTable =\n",
              "            await google.colab.kernel.invokeFunction('convertToInteractive',\n",
              "                                                     [key], {});\n",
              "          if (!dataTable) return;\n",
              "\n",
              "          const docLinkHtml = 'Like what you see? Visit the ' +\n",
              "            '<a target=\"_blank\" href=https://colab.research.google.com/notebooks/data_table.ipynb>data table notebook</a>'\n",
              "            + ' to learn more about interactive tables.';\n",
              "          element.innerHTML = '';\n",
              "          dataTable['output_type'] = 'display_data';\n",
              "          await google.colab.output.renderOutput(dataTable, element);\n",
              "          const docLink = document.createElement('div');\n",
              "          docLink.innerHTML = docLinkHtml;\n",
              "          element.appendChild(docLink);\n",
              "        }\n",
              "      </script>\n",
              "    </div>\n",
              "  </div>\n",
              "  "
            ]
          },
          "metadata": {},
          "execution_count": 13
        }
      ]
    },
    {
      "cell_type": "code",
      "metadata": {
        "colab": {
          "base_uri": "https://localhost:8080/",
          "height": 1000
        },
        "id": "pji2rolHioD0",
        "outputId": "3bbe60c4-a9e2-472b-81ff-61c548c98653"
      },
      "source": [
        "data_more"
      ],
      "execution_count": null,
      "outputs": [
        {
          "output_type": "execute_result",
          "data": {
            "text/plain": [
              "                  author                   date  \\\n",
              "0           Chhavi Tyagi   03 Aug 2017,Thursday   \n",
              "1            Daisy Mowke   03 Aug 2017,Thursday   \n",
              "2         Arshiya Chopra   03 Aug 2017,Thursday   \n",
              "3          Sumedha Sehra   03 Aug 2017,Thursday   \n",
              "4     Aarushi Maheshwari   03 Aug 2017,Thursday   \n",
              "...                  ...                    ...   \n",
              "4509      Mansha Mahajan     24 Feb 2017,Friday   \n",
              "4510      Dishant Sharma   03 Aug 2017,Thursday   \n",
              "4511       Tanya Dhingra   03 Aug 2017,Thursday   \n",
              "4512      Pragya Swastik  07 Dec 2016,Wednesday   \n",
              "4513        Chhavi Tyagi   03 Aug 2017,Thursday   \n",
              "\n",
              "                                                         headlines  \\\n",
              "0     Daman & Diu revokes mandatory Rakshabandhan in offices order   \n",
              "1     Malaika slams user who trolled her for 'divorcing rich man'    \n",
              "2             'Virgin' now corrected to 'Unmarried' in IGIMS' form   \n",
              "3         Aaj aapne pakad liya: LeT man Dujana before being killed   \n",
              "4     Hotel staff to get training to spot signs of sex trafficking   \n",
              "...                                                            ...   \n",
              "4509   Rasna seeking ?250 cr revenue from snack category: Chairman   \n",
              "4510      Sachin attends Rajya Sabha after questions on attendance   \n",
              "4511   Shouldn't rob their childhood: Aamir on kids reality shows    \n",
              "4512       Asha Bhosle gets ?53,000 power bill for unused bungalow   \n",
              "4513  More than half of India's languages may die in 50yrs: Survey   \n",
              "\n",
              "                                                                                                                                                                                                    read_more  \\\n",
              "0     http://www.hindustantimes.com/india-news/rakshabandhan-compulsory-in-daman-and-diu-women-employees-to-tie-rakhis-to-male-colleagues/story-E5h5U1ZDJii5zFpLXWRkhJ.html?utm_source=inshorts&utm_medium...   \n",
              "1     http://www.hindustantimes.com/bollywood/malaika-arora-khan-was-trolled-for-divorcing-a-rich-man-her-reply-is-dignity-itself/story-oIPZNI9deImCmabLMMwR2H.html?utm_source=inshorts&utm_medium=referra...   \n",
              "2     http://www.hindustantimes.com/patna/bihar-igims-form-loses-virginity-after-row-opts-for-unmarried-instead/story-8XmHIg39otGBoZAYEBQxMK.html?utm_source=inshorts&utm_medium=referral&utm_campaign=ful...   \n",
              "3                            http://indiatoday.intoday.in/story/abu-dujana-last-phone-call-lashkar-e-taiba-jammu-and-kashmir/1/1017550.html?utm_source=inshorts&utm_medium=referral&utm_campaign=fullarticle    \n",
              "4     http://indiatoday.intoday.in/story/sex-trafficking-mumbai-rescue-me-maharashtra-international-labour-organization-forced-labour-trafficking-traning-hotel-staff/1/1017210.html?utm_source=inshorts&u...   \n",
              "...                                                                                                                                                                                                       ...   \n",
              "4509                                                                                                       http://indiatoday.intoday.in/story/rasna-eyes-rs-250-cr-revenue-from-snack-category/1/890034.html    \n",
              "4510                  http://indiatoday.intoday.in/story/sachin-tendulkar-rekha-rajya-sabha-nominated-members-naresh-agarwal/1/1017714.html?utm_source=inshorts&utm_medium=referral&utm_campaign=fullarticle    \n",
              "4511  http://www.hindustantimes.com/bollywood/secret-superstar-don-t-rob-childhoods-says-aamir-khan-on-kids-reality-shows/story-g1wZiloXHkg1ShKnD0z9zJ.html?utm_source=inshorts&utm_medium=referral&utm_ca...   \n",
              "4512                                                    http://indiatoday.intoday.in/story/singer-asha-bhosle-msedcl-inflated-electricity-bill-maharashtra-government-chandrashekhar-bawankule/1/828387.html    \n",
              "4513                           http://indiatoday.intoday.in/story/indian-languages-survey-peoples-linguistic-survey-of-india/1/1017851.html?utm_source=inshorts&utm_medium=referral&utm_campaign=fullarticle    \n",
              "\n",
              "                                                                                                                                                                                                         text  \\\n",
              "0     The Administration of Union Territory Daman and Diu has revoked its order that made it compulsory for women to tie rakhis to their male colleagues on the occasion of Rakshabandhan on August 7. The...   \n",
              "1     Malaika Arora slammed an Instagram user who trolled her for \"divorcing a rich man\" and \"having fun with the alimony\". \"Her life now is all about wearing short clothes, going to gym or salon, enjoy...   \n",
              "2     The Indira Gandhi Institute of Medical Sciences (IGIMS) in Patna on Thursday made corrections in its Marital Declaration Form by changing 'Virgin' option to 'Unmarried'. Earlier, Bihar Health Mini...   \n",
              "3     Lashkar-e-Taiba's Kashmir commander Abu Dujana, who was killed by security forces, said \"Kabhi hum aage, kabhi aap, aaj aapne pakad liya, mubarak ho aapko (Today you caught me. Congratulations)\" a...   \n",
              "4     Hotels in Maharashtra will train their staff to spot signs of sex trafficking, including frequent requests for bed linen changes and 'Do not disturb' signs left on room doors for days. A mobile ph...   \n",
              "...                                                                                                                                                                                                       ...   \n",
              "4509  Fruit juice concentrate maker Rasna is eyeing a revenue of ?250 crore in the next three years from the snack category, Chairman Piruz Khambatta said. Rasna, which has presence in the sweet snack c...   \n",
              "4510  Former Indian cricketer Sachin Tendulkar attended the Rajya Sabha a couple of days after Samajwadi Party MP Naresh Agrawal asked him and actress Rekha to resign from their positions due to their l...   \n",
              "4511  Aamir Khan, while talking about reality shows on television that feature kids, said that these shows shouldn't be so aggressive that they rob children of their childhood. \"I haven't seen those rea...   \n",
              "4512  The Maharashtra government has initiated an inquiry after 83-year-old singer Asha Bhosle complained of receiving an electricity bill of over ?53,000 for her unused bungalow in Lonawala. The state ...   \n",
              "4513  At least 400 languages or more than half languages spoken by India's 1.3 billion people may die out in next 50 years, a study by the People's Linguistic Survey of India (PSLI) stated. Further clai...   \n",
              "\n",
              "                                                                                                                                                                                                        ctext  \n",
              "0     The Daman and Diu administration on Wednesday withdrew a circular that asked women staff to tie rakhis on male colleagues after the order triggered a backlash from employees and was ripped apart o...  \n",
              "1     From her special numbers to TV?appearances, Bollywood actor Malaika Arora Khan has managed to carve her own identity. The actor, who made her debut in the Hindi film industry with the blockbuster ...  \n",
              "2     The Indira Gandhi Institute of Medical Sciences (IGIMS) in Patna amended its marital declaration form on Thursday, replacing the word ?virgin? with ?unmarried? after controversy.Until now, new rec...  \n",
              "3     Lashkar-e-Taiba's Kashmir commander Abu Dujana was killed in an encounter in a village in Pulwama district of Jammu and Kashmir earlier this week. Dujana, who had managed to give the security forc...  \n",
              "4     Hotels in Mumbai and other Indian cities are to train their staff to spot signs of sex trafficking such as frequent requests for bed linen changes or a \"Do not disturb\" sign left on the door for d...  \n",
              "...                                                                                                                                                                                                       ...  \n",
              "4509  Mumbai, Feb 23 (PTI) Fruit juice concentrate maker Rasna today said it is eyeing a revenue of Rs 250 crore in the next three years from the snack category. \"We are looking at 5 per cent market sha...  \n",
              "4510  Former cricketer Sachin Tendulkar was spotted in the Rajya Sabha today a couple of days after absence of nominated members from the Upper House was questioned by Samajwadi Party MP Naresh Agarwal....  \n",
              "4511  Aamir Khan, whose last film Dangal told the story of two girls who grow up to become formidable wrestlers, says his upcoming movie Secret Superstar -- a musical drama -- is yet another film on the...  \n",
              "4512  Maharahstra Power Minister Chandrashekhar Bawankule on Tuesday ordered the officials of Maharashtra State Electricity Distribution Company Limited (MSEDCL) to inquire into the complaint of inflate...  \n",
              "4513  More than half of the languages spoken by India's 1.3 billion people may die out over the next 50 years, scholars said on Thursday, calling for a concerted effort to preserve the tongues spoken by...  \n",
              "\n",
              "[4514 rows x 6 columns]"
            ],
            "text/html": [
              "\n",
              "  <div id=\"df-3edcf82d-b860-4c30-90d0-dd8259e5a242\">\n",
              "    <div class=\"colab-df-container\">\n",
              "      <div>\n",
              "<style scoped>\n",
              "    .dataframe tbody tr th:only-of-type {\n",
              "        vertical-align: middle;\n",
              "    }\n",
              "\n",
              "    .dataframe tbody tr th {\n",
              "        vertical-align: top;\n",
              "    }\n",
              "\n",
              "    .dataframe thead th {\n",
              "        text-align: right;\n",
              "    }\n",
              "</style>\n",
              "<table border=\"1\" class=\"dataframe\">\n",
              "  <thead>\n",
              "    <tr style=\"text-align: right;\">\n",
              "      <th></th>\n",
              "      <th>author</th>\n",
              "      <th>date</th>\n",
              "      <th>headlines</th>\n",
              "      <th>read_more</th>\n",
              "      <th>text</th>\n",
              "      <th>ctext</th>\n",
              "    </tr>\n",
              "  </thead>\n",
              "  <tbody>\n",
              "    <tr>\n",
              "      <th>0</th>\n",
              "      <td>Chhavi Tyagi</td>\n",
              "      <td>03 Aug 2017,Thursday</td>\n",
              "      <td>Daman &amp; Diu revokes mandatory Rakshabandhan in offices order</td>\n",
              "      <td>http://www.hindustantimes.com/india-news/rakshabandhan-compulsory-in-daman-and-diu-women-employees-to-tie-rakhis-to-male-colleagues/story-E5h5U1ZDJii5zFpLXWRkhJ.html?utm_source=inshorts&amp;utm_medium...</td>\n",
              "      <td>The Administration of Union Territory Daman and Diu has revoked its order that made it compulsory for women to tie rakhis to their male colleagues on the occasion of Rakshabandhan on August 7. The...</td>\n",
              "      <td>The Daman and Diu administration on Wednesday withdrew a circular that asked women staff to tie rakhis on male colleagues after the order triggered a backlash from employees and was ripped apart o...</td>\n",
              "    </tr>\n",
              "    <tr>\n",
              "      <th>1</th>\n",
              "      <td>Daisy Mowke</td>\n",
              "      <td>03 Aug 2017,Thursday</td>\n",
              "      <td>Malaika slams user who trolled her for 'divorcing rich man'</td>\n",
              "      <td>http://www.hindustantimes.com/bollywood/malaika-arora-khan-was-trolled-for-divorcing-a-rich-man-her-reply-is-dignity-itself/story-oIPZNI9deImCmabLMMwR2H.html?utm_source=inshorts&amp;utm_medium=referra...</td>\n",
              "      <td>Malaika Arora slammed an Instagram user who trolled her for \"divorcing a rich man\" and \"having fun with the alimony\". \"Her life now is all about wearing short clothes, going to gym or salon, enjoy...</td>\n",
              "      <td>From her special numbers to TV?appearances, Bollywood actor Malaika Arora Khan has managed to carve her own identity. The actor, who made her debut in the Hindi film industry with the blockbuster ...</td>\n",
              "    </tr>\n",
              "    <tr>\n",
              "      <th>2</th>\n",
              "      <td>Arshiya Chopra</td>\n",
              "      <td>03 Aug 2017,Thursday</td>\n",
              "      <td>'Virgin' now corrected to 'Unmarried' in IGIMS' form</td>\n",
              "      <td>http://www.hindustantimes.com/patna/bihar-igims-form-loses-virginity-after-row-opts-for-unmarried-instead/story-8XmHIg39otGBoZAYEBQxMK.html?utm_source=inshorts&amp;utm_medium=referral&amp;utm_campaign=ful...</td>\n",
              "      <td>The Indira Gandhi Institute of Medical Sciences (IGIMS) in Patna on Thursday made corrections in its Marital Declaration Form by changing 'Virgin' option to 'Unmarried'. Earlier, Bihar Health Mini...</td>\n",
              "      <td>The Indira Gandhi Institute of Medical Sciences (IGIMS) in Patna amended its marital declaration form on Thursday, replacing the word ?virgin? with ?unmarried? after controversy.Until now, new rec...</td>\n",
              "    </tr>\n",
              "    <tr>\n",
              "      <th>3</th>\n",
              "      <td>Sumedha Sehra</td>\n",
              "      <td>03 Aug 2017,Thursday</td>\n",
              "      <td>Aaj aapne pakad liya: LeT man Dujana before being killed</td>\n",
              "      <td>http://indiatoday.intoday.in/story/abu-dujana-last-phone-call-lashkar-e-taiba-jammu-and-kashmir/1/1017550.html?utm_source=inshorts&amp;utm_medium=referral&amp;utm_campaign=fullarticle</td>\n",
              "      <td>Lashkar-e-Taiba's Kashmir commander Abu Dujana, who was killed by security forces, said \"Kabhi hum aage, kabhi aap, aaj aapne pakad liya, mubarak ho aapko (Today you caught me. Congratulations)\" a...</td>\n",
              "      <td>Lashkar-e-Taiba's Kashmir commander Abu Dujana was killed in an encounter in a village in Pulwama district of Jammu and Kashmir earlier this week. Dujana, who had managed to give the security forc...</td>\n",
              "    </tr>\n",
              "    <tr>\n",
              "      <th>4</th>\n",
              "      <td>Aarushi Maheshwari</td>\n",
              "      <td>03 Aug 2017,Thursday</td>\n",
              "      <td>Hotel staff to get training to spot signs of sex trafficking</td>\n",
              "      <td>http://indiatoday.intoday.in/story/sex-trafficking-mumbai-rescue-me-maharashtra-international-labour-organization-forced-labour-trafficking-traning-hotel-staff/1/1017210.html?utm_source=inshorts&amp;u...</td>\n",
              "      <td>Hotels in Maharashtra will train their staff to spot signs of sex trafficking, including frequent requests for bed linen changes and 'Do not disturb' signs left on room doors for days. A mobile ph...</td>\n",
              "      <td>Hotels in Mumbai and other Indian cities are to train their staff to spot signs of sex trafficking such as frequent requests for bed linen changes or a \"Do not disturb\" sign left on the door for d...</td>\n",
              "    </tr>\n",
              "    <tr>\n",
              "      <th>...</th>\n",
              "      <td>...</td>\n",
              "      <td>...</td>\n",
              "      <td>...</td>\n",
              "      <td>...</td>\n",
              "      <td>...</td>\n",
              "      <td>...</td>\n",
              "    </tr>\n",
              "    <tr>\n",
              "      <th>4509</th>\n",
              "      <td>Mansha Mahajan</td>\n",
              "      <td>24 Feb 2017,Friday</td>\n",
              "      <td>Rasna seeking ?250 cr revenue from snack category: Chairman</td>\n",
              "      <td>http://indiatoday.intoday.in/story/rasna-eyes-rs-250-cr-revenue-from-snack-category/1/890034.html</td>\n",
              "      <td>Fruit juice concentrate maker Rasna is eyeing a revenue of ?250 crore in the next three years from the snack category, Chairman Piruz Khambatta said. Rasna, which has presence in the sweet snack c...</td>\n",
              "      <td>Mumbai, Feb 23 (PTI) Fruit juice concentrate maker Rasna today said it is eyeing a revenue of Rs 250 crore in the next three years from the snack category. \"We are looking at 5 per cent market sha...</td>\n",
              "    </tr>\n",
              "    <tr>\n",
              "      <th>4510</th>\n",
              "      <td>Dishant Sharma</td>\n",
              "      <td>03 Aug 2017,Thursday</td>\n",
              "      <td>Sachin attends Rajya Sabha after questions on attendance</td>\n",
              "      <td>http://indiatoday.intoday.in/story/sachin-tendulkar-rekha-rajya-sabha-nominated-members-naresh-agarwal/1/1017714.html?utm_source=inshorts&amp;utm_medium=referral&amp;utm_campaign=fullarticle</td>\n",
              "      <td>Former Indian cricketer Sachin Tendulkar attended the Rajya Sabha a couple of days after Samajwadi Party MP Naresh Agrawal asked him and actress Rekha to resign from their positions due to their l...</td>\n",
              "      <td>Former cricketer Sachin Tendulkar was spotted in the Rajya Sabha today a couple of days after absence of nominated members from the Upper House was questioned by Samajwadi Party MP Naresh Agarwal....</td>\n",
              "    </tr>\n",
              "    <tr>\n",
              "      <th>4511</th>\n",
              "      <td>Tanya Dhingra</td>\n",
              "      <td>03 Aug 2017,Thursday</td>\n",
              "      <td>Shouldn't rob their childhood: Aamir on kids reality shows</td>\n",
              "      <td>http://www.hindustantimes.com/bollywood/secret-superstar-don-t-rob-childhoods-says-aamir-khan-on-kids-reality-shows/story-g1wZiloXHkg1ShKnD0z9zJ.html?utm_source=inshorts&amp;utm_medium=referral&amp;utm_ca...</td>\n",
              "      <td>Aamir Khan, while talking about reality shows on television that feature kids, said that these shows shouldn't be so aggressive that they rob children of their childhood. \"I haven't seen those rea...</td>\n",
              "      <td>Aamir Khan, whose last film Dangal told the story of two girls who grow up to become formidable wrestlers, says his upcoming movie Secret Superstar -- a musical drama -- is yet another film on the...</td>\n",
              "    </tr>\n",
              "    <tr>\n",
              "      <th>4512</th>\n",
              "      <td>Pragya Swastik</td>\n",
              "      <td>07 Dec 2016,Wednesday</td>\n",
              "      <td>Asha Bhosle gets ?53,000 power bill for unused bungalow</td>\n",
              "      <td>http://indiatoday.intoday.in/story/singer-asha-bhosle-msedcl-inflated-electricity-bill-maharashtra-government-chandrashekhar-bawankule/1/828387.html</td>\n",
              "      <td>The Maharashtra government has initiated an inquiry after 83-year-old singer Asha Bhosle complained of receiving an electricity bill of over ?53,000 for her unused bungalow in Lonawala. The state ...</td>\n",
              "      <td>Maharahstra Power Minister Chandrashekhar Bawankule on Tuesday ordered the officials of Maharashtra State Electricity Distribution Company Limited (MSEDCL) to inquire into the complaint of inflate...</td>\n",
              "    </tr>\n",
              "    <tr>\n",
              "      <th>4513</th>\n",
              "      <td>Chhavi Tyagi</td>\n",
              "      <td>03 Aug 2017,Thursday</td>\n",
              "      <td>More than half of India's languages may die in 50yrs: Survey</td>\n",
              "      <td>http://indiatoday.intoday.in/story/indian-languages-survey-peoples-linguistic-survey-of-india/1/1017851.html?utm_source=inshorts&amp;utm_medium=referral&amp;utm_campaign=fullarticle</td>\n",
              "      <td>At least 400 languages or more than half languages spoken by India's 1.3 billion people may die out in next 50 years, a study by the People's Linguistic Survey of India (PSLI) stated. Further clai...</td>\n",
              "      <td>More than half of the languages spoken by India's 1.3 billion people may die out over the next 50 years, scholars said on Thursday, calling for a concerted effort to preserve the tongues spoken by...</td>\n",
              "    </tr>\n",
              "  </tbody>\n",
              "</table>\n",
              "<p>4514 rows × 6 columns</p>\n",
              "</div>\n",
              "      <button class=\"colab-df-convert\" onclick=\"convertToInteractive('df-3edcf82d-b860-4c30-90d0-dd8259e5a242')\"\n",
              "              title=\"Convert this dataframe to an interactive table.\"\n",
              "              style=\"display:none;\">\n",
              "        \n",
              "  <svg xmlns=\"http://www.w3.org/2000/svg\" height=\"24px\"viewBox=\"0 0 24 24\"\n",
              "       width=\"24px\">\n",
              "    <path d=\"M0 0h24v24H0V0z\" fill=\"none\"/>\n",
              "    <path d=\"M18.56 5.44l.94 2.06.94-2.06 2.06-.94-2.06-.94-.94-2.06-.94 2.06-2.06.94zm-11 1L8.5 8.5l.94-2.06 2.06-.94-2.06-.94L8.5 2.5l-.94 2.06-2.06.94zm10 10l.94 2.06.94-2.06 2.06-.94-2.06-.94-.94-2.06-.94 2.06-2.06.94z\"/><path d=\"M17.41 7.96l-1.37-1.37c-.4-.4-.92-.59-1.43-.59-.52 0-1.04.2-1.43.59L10.3 9.45l-7.72 7.72c-.78.78-.78 2.05 0 2.83L4 21.41c.39.39.9.59 1.41.59.51 0 1.02-.2 1.41-.59l7.78-7.78 2.81-2.81c.8-.78.8-2.07 0-2.86zM5.41 20L4 18.59l7.72-7.72 1.47 1.35L5.41 20z\"/>\n",
              "  </svg>\n",
              "      </button>\n",
              "      \n",
              "  <style>\n",
              "    .colab-df-container {\n",
              "      display:flex;\n",
              "      flex-wrap:wrap;\n",
              "      gap: 12px;\n",
              "    }\n",
              "\n",
              "    .colab-df-convert {\n",
              "      background-color: #E8F0FE;\n",
              "      border: none;\n",
              "      border-radius: 50%;\n",
              "      cursor: pointer;\n",
              "      display: none;\n",
              "      fill: #1967D2;\n",
              "      height: 32px;\n",
              "      padding: 0 0 0 0;\n",
              "      width: 32px;\n",
              "    }\n",
              "\n",
              "    .colab-df-convert:hover {\n",
              "      background-color: #E2EBFA;\n",
              "      box-shadow: 0px 1px 2px rgba(60, 64, 67, 0.3), 0px 1px 3px 1px rgba(60, 64, 67, 0.15);\n",
              "      fill: #174EA6;\n",
              "    }\n",
              "\n",
              "    [theme=dark] .colab-df-convert {\n",
              "      background-color: #3B4455;\n",
              "      fill: #D2E3FC;\n",
              "    }\n",
              "\n",
              "    [theme=dark] .colab-df-convert:hover {\n",
              "      background-color: #434B5C;\n",
              "      box-shadow: 0px 1px 3px 1px rgba(0, 0, 0, 0.15);\n",
              "      filter: drop-shadow(0px 1px 2px rgba(0, 0, 0, 0.3));\n",
              "      fill: #FFFFFF;\n",
              "    }\n",
              "  </style>\n",
              "\n",
              "      <script>\n",
              "        const buttonEl =\n",
              "          document.querySelector('#df-3edcf82d-b860-4c30-90d0-dd8259e5a242 button.colab-df-convert');\n",
              "        buttonEl.style.display =\n",
              "          google.colab.kernel.accessAllowed ? 'block' : 'none';\n",
              "\n",
              "        async function convertToInteractive(key) {\n",
              "          const element = document.querySelector('#df-3edcf82d-b860-4c30-90d0-dd8259e5a242');\n",
              "          const dataTable =\n",
              "            await google.colab.kernel.invokeFunction('convertToInteractive',\n",
              "                                                     [key], {});\n",
              "          if (!dataTable) return;\n",
              "\n",
              "          const docLinkHtml = 'Like what you see? Visit the ' +\n",
              "            '<a target=\"_blank\" href=https://colab.research.google.com/notebooks/data_table.ipynb>data table notebook</a>'\n",
              "            + ' to learn more about interactive tables.';\n",
              "          element.innerHTML = '';\n",
              "          dataTable['output_type'] = 'display_data';\n",
              "          await google.colab.output.renderOutput(dataTable, element);\n",
              "          const docLink = document.createElement('div');\n",
              "          docLink.innerHTML = docLinkHtml;\n",
              "          element.appendChild(docLink);\n",
              "        }\n",
              "      </script>\n",
              "    </div>\n",
              "  </div>\n",
              "  "
            ]
          },
          "metadata": {},
          "execution_count": 14
        }
      ]
    },
    {
      "cell_type": "markdown",
      "metadata": {
        "id": "kGNQKvCaISIn"
      },
      "source": [
        "### Drop Duplicates and NA values"
      ]
    },
    {
      "cell_type": "code",
      "metadata": {
        "id": "Cjul88oOFxcr",
        "execution": {
          "iopub.status.busy": "2021-10-22T13:26:02.012361Z",
          "iopub.execute_input": "2021-10-22T13:26:02.012721Z",
          "iopub.status.idle": "2021-10-22T13:26:02.609266Z",
          "shell.execute_reply.started": "2021-10-22T13:26:02.01268Z",
          "shell.execute_reply": "2021-10-22T13:26:02.608333Z"
        },
        "trusted": true
      },
      "source": [
        "data.drop_duplicates(subset=['text'],inplace=True)#dropping duplicates\n",
        "data.dropna(axis=0,inplace=True)#dropping na"
      ],
      "execution_count": null,
      "outputs": []
    },
    {
      "cell_type": "markdown",
      "metadata": {
        "id": "r0xLYACiFxdJ"
      },
      "source": [
        "We will use dictionary for expanding the contractions:"
      ]
    },
    {
      "cell_type": "code",
      "metadata": {
        "id": "0s6IY-x2FxdL",
        "execution": {
          "iopub.status.busy": "2021-10-22T13:26:02.760483Z",
          "iopub.execute_input": "2021-10-22T13:26:02.760967Z",
          "iopub.status.idle": "2021-10-22T13:26:02.777894Z",
          "shell.execute_reply.started": "2021-10-22T13:26:02.760922Z",
          "shell.execute_reply": "2021-10-22T13:26:02.776889Z"
        },
        "trusted": true
      },
      "source": [
        "# A list of contractions from http://stackoverflow.com/questions/19790188/expanding-english-language-contractions-in-python\n",
        "\n",
        "contraction_mapping = {\"ain't\": \"is not\", \"aren't\": \"are not\",\"can't\": \"cannot\", \"'cause\": \"because\", \"could've\": \"could have\", \"couldn't\": \"could not\",\n",
        "                           \"didn't\": \"did not\",  \"doesn't\": \"does not\", \"don't\": \"do not\", \"hadn't\": \"had not\", \"hasn't\": \"has not\", \"haven't\": \"have not\",\n",
        "                           \"he'd\": \"he would\",\"he'll\": \"he will\", \"he's\": \"he is\", \"how'd\": \"how did\", \"how'd'y\": \"how do you\", \"how'll\": \"how will\", \"how's\": \"how is\",\n",
        "                           \"I'd\": \"I would\", \"I'd've\": \"I would have\", \"I'll\": \"I will\", \"I'll've\": \"I will have\",\"I'm\": \"I am\", \"I've\": \"I have\", \"i'd\": \"i would\",\n",
        "                           \"i'd've\": \"i would have\", \"i'll\": \"i will\",  \"i'll've\": \"i will have\",\"i'm\": \"i am\", \"i've\": \"i have\", \"isn't\": \"is not\", \"it'd\": \"it would\",\n",
        "                           \"it'd've\": \"it would have\", \"it'll\": \"it will\", \"it'll've\": \"it will have\",\"it's\": \"it is\", \"let's\": \"let us\", \"ma'am\": \"madam\",\n",
        "                           \"mayn't\": \"may not\", \"might've\": \"might have\",\"mightn't\": \"might not\",\"mightn't've\": \"might not have\", \"must've\": \"must have\",\n",
        "                           \"mustn't\": \"must not\", \"mustn't've\": \"must not have\", \"needn't\": \"need not\", \"needn't've\": \"need not have\",\"o'clock\": \"of the clock\",\n",
        "                           \"oughtn't\": \"ought not\", \"oughtn't've\": \"ought not have\", \"shan't\": \"shall not\", \"sha'n't\": \"shall not\", \"shan't've\": \"shall not have\",\n",
        "                           \"she'd\": \"she would\", \"she'd've\": \"she would have\", \"she'll\": \"she will\", \"she'll've\": \"she will have\", \"she's\": \"she is\",\n",
        "                           \"should've\": \"should have\", \"shouldn't\": \"should not\", \"shouldn't've\": \"should not have\", \"so've\": \"so have\",\"so's\": \"so as\",\n",
        "                           \"this's\": \"this is\",\"that'd\": \"that would\", \"that'd've\": \"that would have\", \"that's\": \"that is\", \"there'd\": \"there would\",\n",
        "                           \"there'd've\": \"there would have\", \"there's\": \"there is\", \"here's\": \"here is\",\"they'd\": \"they would\", \"they'd've\": \"they would have\",\n",
        "                           \"they'll\": \"they will\", \"they'll've\": \"they will have\", \"they're\": \"they are\", \"they've\": \"they have\", \"to've\": \"to have\",\n",
        "                           \"wasn't\": \"was not\", \"we'd\": \"we would\", \"we'd've\": \"we would have\", \"we'll\": \"we will\", \"we'll've\": \"we will have\", \"we're\": \"we are\",\n",
        "                           \"we've\": \"we have\", \"weren't\": \"were not\", \"what'll\": \"what will\", \"what'll've\": \"what will have\", \"what're\": \"what are\",\n",
        "                           \"what's\": \"what is\", \"what've\": \"what have\", \"when's\": \"when is\", \"when've\": \"when have\", \"where'd\": \"where did\", \"where's\": \"where is\",\n",
        "                           \"where've\": \"where have\", \"who'll\": \"who will\", \"who'll've\": \"who will have\", \"who's\": \"who is\", \"who've\": \"who have\",\n",
        "                           \"why's\": \"why is\", \"why've\": \"why have\", \"will've\": \"will have\", \"won't\": \"will not\", \"won't've\": \"will not have\",\n",
        "                           \"would've\": \"would have\", \"wouldn't\": \"would not\", \"wouldn't've\": \"would not have\", \"y'all\": \"you all\",\n",
        "                           \"y'all'd\": \"you all would\",\"y'all'd've\": \"you all would have\",\"y'all're\": \"you all are\",\"y'all've\": \"you all have\",\n",
        "                           \"you'd\": \"you would\", \"you'd've\": \"you would have\", \"you'll\": \"you will\", \"you'll've\": \"you will have\",\n",
        "                           \"you're\": \"you are\", \"you've\": \"you have\"}"
      ],
      "execution_count": null,
      "outputs": []
    },
    {
      "cell_type": "markdown",
      "metadata": {
        "id": "2JFRXFHmI7Mj"
      },
      "source": [
        "We will perform the below preprocessing tasks for our data:\n",
        "\n",
        "1.Convert everything to lowercase\n",
        "\n",
        "2.Remove HTML tags\n",
        "\n",
        "3.Contraction mapping\n",
        "\n",
        "4.Remove (‘s)\n",
        "\n",
        "5.Remove any text inside the parenthesis ( )\n",
        "\n",
        "6.Eliminate punctuations and special characters\n",
        "\n",
        "7.Remove stopwords\n",
        "\n",
        "8.Remove short words\n",
        "\n",
        "Let’s define the function:"
      ]
    },
    {
      "cell_type": "code",
      "metadata": {
        "id": "XZr-u3OEFxdT",
        "execution": {
          "iopub.status.busy": "2021-10-22T13:26:02.77972Z",
          "iopub.execute_input": "2021-10-22T13:26:02.780055Z",
          "iopub.status.idle": "2021-10-22T13:26:02.799652Z",
          "shell.execute_reply.started": "2021-10-22T13:26:02.780011Z",
          "shell.execute_reply": "2021-10-22T13:26:02.798631Z"
        },
        "trusted": true,
        "colab": {
          "base_uri": "https://localhost:8080/"
        },
        "outputId": "fb9fd57e-0e95-4a92-a188-32eaf4963fbb"
      },
      "source": [
        "import nltk\n",
        "nltk.download('stopwords')\n",
        "stop_words = set(stopwords.words('english')) \n",
        "\n",
        "def text_cleaner(text,num):\n",
        "    newString = text.lower()\n",
        "    newString = BeautifulSoup(newString, \"lxml\").text\n",
        "    newString = re.sub(r'\\([^)]*\\)', '', newString)\n",
        "    newString = re.sub('\"','', newString)\n",
        "    newString = ' '.join([contraction_mapping[t] if t in contraction_mapping else t for t in newString.split(\" \")])    \n",
        "    newString = re.sub(r\"'s\\b\",\"\",newString)\n",
        "    newString = re.sub(\"[^a-zA-Z]\", \" \", newString) \n",
        "    newString = re.sub('[m]{2,}', 'mm', newString)\n",
        "    if(num==0):\n",
        "        tokens = [w for w in newString.split() if not w in stop_words]\n",
        "    else:\n",
        "        tokens=newString.split()\n",
        "    long_words=[]\n",
        "    for i in tokens:\n",
        "        if len(i)>1:                                                 #removing short word\n",
        "            long_words.append(i)   \n",
        "    return (\" \".join(long_words)).strip()"
      ],
      "execution_count": null,
      "outputs": [
        {
          "output_type": "stream",
          "name": "stdout",
          "text": [
            "[nltk_data] Downloading package stopwords to /root/nltk_data...\n",
            "[nltk_data]   Unzipping corpora/stopwords.zip.\n"
          ]
        }
      ]
    },
    {
      "cell_type": "code",
      "metadata": {
        "id": "A2QAeCHWFxdY",
        "execution": {
          "iopub.status.busy": "2021-10-22T13:26:02.801448Z",
          "iopub.execute_input": "2021-10-22T13:26:02.801796Z",
          "iopub.status.idle": "2021-10-22T13:27:51.888868Z",
          "shell.execute_reply.started": "2021-10-22T13:26:02.801753Z",
          "shell.execute_reply": "2021-10-22T13:27:51.887838Z"
        },
        "trusted": true
      },
      "source": [
        "#call the function\n",
        "cleaned_text = []\n",
        "for t in data['text']:\n",
        "    cleaned_text.append(text_cleaner(t,0)) "
      ],
      "execution_count": null,
      "outputs": []
    },
    {
      "cell_type": "markdown",
      "metadata": {
        "id": "snRZY8wjLao2"
      },
      "source": [
        "Let us look at the first five preprocessed reviews"
      ]
    },
    {
      "cell_type": "code",
      "metadata": {
        "id": "NCAIkhWbFxdh",
        "execution": {
          "iopub.status.busy": "2021-10-22T13:27:51.890334Z",
          "iopub.execute_input": "2021-10-22T13:27:51.890645Z",
          "iopub.status.idle": "2021-10-22T13:27:51.89975Z",
          "shell.execute_reply.started": "2021-10-22T13:27:51.8906Z",
          "shell.execute_reply": "2021-10-22T13:27:51.898499Z"
        },
        "trusted": true,
        "colab": {
          "base_uri": "https://localhost:8080/"
        },
        "outputId": "3bc95b4c-c879-473a-9069-86c9bef0a40a"
      },
      "source": [
        "cleaned_text[:5]  "
      ],
      "execution_count": null,
      "outputs": [
        {
          "output_type": "execute_result",
          "data": {
            "text/plain": [
              "['saurav kant alumnus upgrad iiit pg program machine learning artificial intelligence sr systems engineer infosys almost years work experience program upgrad degree career support helped transition data scientist tech mahindra salary hike upgrad online power learning powered lakh careers',\n",
              " 'kunal shah credit card bill payment platform cred gave users chance win free food swiggy one year pranav kaushik delhi techie bagged reward spending cred coins users get one cred coin per rupee bill paid used avail rewards brands like ixigo bookmyshow ubereats cult fit',\n",
              " 'new zealand defeated india wickets fourth odi hamilton thursday win first match five match odi series india lost international match rohit sharma captaincy consecutive victories dating back march match witnessed india getting seventh lowest total odi cricket history',\n",
              " 'aegon life iterm insurance plan customers enjoy tax benefits premiums paid save taxes plan provides life cover age years also customers options insure critical illnesses disability accidental death benefit rider life cover age years',\n",
              " 'speaking sexual harassment allegations rajkumar hirani sonam kapoor said known hirani many years true metoo movement get derailed metoo movement always believe woman case need reserve judgment added hirani accused assistant worked sanju']"
            ]
          },
          "metadata": {},
          "execution_count": 19
        }
      ]
    },
    {
      "cell_type": "code",
      "metadata": {
        "id": "GsRXocxoFxd-",
        "execution": {
          "iopub.status.busy": "2021-10-22T13:27:51.905385Z",
          "iopub.execute_input": "2021-10-22T13:27:51.906082Z",
          "iopub.status.idle": "2021-10-22T13:29:07.925276Z",
          "shell.execute_reply.started": "2021-10-22T13:27:51.905999Z",
          "shell.execute_reply": "2021-10-22T13:29:07.924211Z"
        },
        "trusted": true
      },
      "source": [
        "#call the function\n",
        "cleaned_summary = []\n",
        "for t in data['headlines']:\n",
        "    cleaned_summary.append(text_cleaner(t,1))"
      ],
      "execution_count": null,
      "outputs": []
    },
    {
      "cell_type": "markdown",
      "metadata": {
        "id": "oZeD0gs6Lnb-"
      },
      "source": [
        "Let us look at the first 10 preprocessed summaries"
      ]
    },
    {
      "cell_type": "code",
      "metadata": {
        "id": "jQJdZcAzFxee",
        "execution": {
          "iopub.status.busy": "2021-10-22T13:29:07.927026Z",
          "iopub.execute_input": "2021-10-22T13:29:07.927381Z",
          "iopub.status.idle": "2021-10-22T13:29:07.935735Z",
          "shell.execute_reply.started": "2021-10-22T13:29:07.927335Z",
          "shell.execute_reply": "2021-10-22T13:29:07.934623Z"
        },
        "trusted": true,
        "colab": {
          "base_uri": "https://localhost:8080/"
        },
        "outputId": "156415f1-d06e-4759-9791-cb3178c4567f"
      },
      "source": [
        "cleaned_summary[:10]"
      ],
      "execution_count": null,
      "outputs": [
        {
          "output_type": "execute_result",
          "data": {
            "text/plain": [
              "['upgrad learner switches to career in ml al with salary hike',\n",
              " 'delhi techie wins free food from swiggy for one year on cred',\n",
              " 'new zealand end rohit sharma led india match winning streak',\n",
              " 'aegon life iterm insurance plan helps customers save tax',\n",
              " 'have known hirani for yrs what if metoo claims are not true sonam',\n",
              " 'rahat fateh ali khan denies getting notice for smuggling currency',\n",
              " 'india get all out for their lowest odi total in new zealand',\n",
              " 'govt directs alok verma to join work day before his retirement',\n",
              " 'called pm modi sir times to satisfy his ego andhra cm',\n",
              " 'cong wins ramgarh bypoll in rajasthan takes total to seats']"
            ]
          },
          "metadata": {},
          "execution_count": 21
        }
      ]
    },
    {
      "cell_type": "code",
      "metadata": {
        "id": "L1zLpnqsFxey",
        "execution": {
          "iopub.status.busy": "2021-10-22T13:29:07.937694Z",
          "iopub.execute_input": "2021-10-22T13:29:07.938828Z",
          "iopub.status.idle": "2021-10-22T13:29:08.011238Z",
          "shell.execute_reply.started": "2021-10-22T13:29:07.938779Z",
          "shell.execute_reply": "2021-10-22T13:29:08.010157Z"
        },
        "trusted": true
      },
      "source": [
        "data['cleaned_text']=cleaned_text\n",
        "data['cleaned_summary']=cleaned_summary"
      ],
      "execution_count": null,
      "outputs": []
    },
    {
      "cell_type": "markdown",
      "metadata": {
        "id": "KT_D2cLiLy77"
      },
      "source": [
        "### Drop empty rows"
      ]
    },
    {
      "cell_type": "code",
      "metadata": {
        "id": "sYK390unFxfA",
        "execution": {
          "iopub.status.busy": "2021-10-22T13:29:08.013161Z",
          "iopub.execute_input": "2021-10-22T13:29:08.013944Z",
          "iopub.status.idle": "2021-10-22T13:29:08.554093Z",
          "shell.execute_reply.started": "2021-10-22T13:29:08.013879Z",
          "shell.execute_reply": "2021-10-22T13:29:08.552983Z"
        },
        "trusted": true
      },
      "source": [
        "data.replace('', np.nan, inplace=True)\n",
        "data.dropna(axis=0,inplace=True)"
      ],
      "execution_count": null,
      "outputs": []
    },
    {
      "cell_type": "markdown",
      "metadata": {
        "id": "Vm8Fk2TCL7Sp"
      },
      "source": [
        "# Analyzing and Preparing the Data\n",
        "\n",
        "We will analyze the length of the reviews and the summary to get an overall idea about the distribution of length of the text to fix the maximum length of the sequence:"
      ]
    },
    {
      "cell_type": "code",
      "metadata": {
        "id": "MdF76AHHFxgw",
        "execution": {
          "iopub.status.busy": "2021-10-22T13:29:08.556929Z",
          "iopub.execute_input": "2021-10-22T13:29:08.557781Z",
          "iopub.status.idle": "2021-10-22T13:29:10.288945Z",
          "shell.execute_reply.started": "2021-10-22T13:29:08.557736Z",
          "shell.execute_reply": "2021-10-22T13:29:10.286788Z"
        },
        "trusted": true,
        "colab": {
          "base_uri": "https://localhost:8080/",
          "height": 281
        },
        "outputId": "784c56f1-6c51-401f-cef9-2a30573e89f2"
      },
      "source": [
        "import matplotlib.pyplot as plt\n",
        "\n",
        "text_word_count = []\n",
        "summary_word_count = []\n",
        "\n",
        "# populate the lists with sentence lengths\n",
        "for i in data['cleaned_text']:\n",
        "      text_word_count.append(len(i.split()))\n",
        "\n",
        "for i in data['cleaned_summary']:\n",
        "      summary_word_count.append(len(i.split()))\n",
        "\n",
        "length_df = pd.DataFrame({'text':text_word_count, 'summary':summary_word_count})\n",
        "\n",
        "length_df.hist(bins = 30)\n",
        "plt.show()"
      ],
      "execution_count": null,
      "outputs": [
        {
          "output_type": "display_data",
          "data": {
            "text/plain": [
              "<Figure size 432x288 with 2 Axes>"
            ],
            "image/png": "[encoded data removed]"
          },
          "metadata": {
            "needs_background": "light"
          }
        }
      ]
    },
    {
      "cell_type": "code",
      "metadata": {
        "id": "7JRjwdIOFxg3",
        "execution": {
          "iopub.status.busy": "2021-10-22T13:29:10.295476Z",
          "iopub.execute_input": "2021-10-22T13:29:10.296501Z",
          "iopub.status.idle": "2021-10-22T13:29:10.646042Z",
          "shell.execute_reply.started": "2021-10-22T13:29:10.296452Z",
          "shell.execute_reply": "2021-10-22T13:29:10.645127Z"
        },
        "trusted": true,
        "colab": {
          "base_uri": "https://localhost:8080/"
        },
        "outputId": "1e63df1e-d68b-4756-9f94-8000b9f0272c"
      },
      "source": [
        "cnt=0\n",
        "for i in data['cleaned_summary']:\n",
        "    if(len(i.split())<=12):\n",
        "        cnt=cnt+1\n",
        "print(cnt/len(data['cleaned_summary']))"
      ],
      "execution_count": null,
      "outputs": [
        {
          "output_type": "stream",
          "name": "stdout",
          "text": [
            "0.9880337535583571\n"
          ]
        }
      ]
    },
    {
      "cell_type": "markdown",
      "metadata": {
        "id": "yYB4Ga9KMjEu"
      },
      "source": [
        "We observe that 98.8% of the summaries have length below 12. So, we can fix maximum length of summary to 12.\n",
        "\n",
        "Let us fix the maximum length of review to 42"
      ]
    },
    {
      "cell_type": "code",
      "metadata": {
        "id": "ZKD5VOWqFxhC",
        "execution": {
          "iopub.status.busy": "2021-10-22T13:29:10.651719Z",
          "iopub.execute_input": "2021-10-22T13:29:10.652787Z",
          "iopub.status.idle": "2021-10-22T13:29:10.662726Z",
          "shell.execute_reply.started": "2021-10-22T13:29:10.652744Z",
          "shell.execute_reply": "2021-10-22T13:29:10.661557Z"
        },
        "trusted": true
      },
      "source": [
        "max_text_len=42\n",
        "max_summary_len=12"
      ],
      "execution_count": null,
      "outputs": []
    },
    {
      "cell_type": "markdown",
      "metadata": {
        "id": "E6d48E-8M4VO"
      },
      "source": [
        "Select the reviews and summaries whose length falls below or equal to **max_text_len** and **max_summary_len**"
      ]
    },
    {
      "cell_type": "code",
      "metadata": {
        "id": "yY0tEJP0FxhI",
        "execution": {
          "iopub.status.busy": "2021-10-22T13:29:10.664306Z",
          "iopub.execute_input": "2021-10-22T13:29:10.665248Z",
          "iopub.status.idle": "2021-10-22T13:29:11.578593Z",
          "shell.execute_reply.started": "2021-10-22T13:29:10.665202Z",
          "shell.execute_reply": "2021-10-22T13:29:11.577603Z"
        },
        "trusted": true
      },
      "source": [
        "cleaned_text =np.array(data['cleaned_text'])\n",
        "cleaned_summary=np.array(data['cleaned_summary'])\n",
        "\n",
        "short_text=[]\n",
        "short_summary=[]\n",
        "\n",
        "for i in range(len(cleaned_text)):\n",
        "    if(len(cleaned_summary[i].split())<=max_summary_len and len(cleaned_text[i].split())<=max_text_len):\n",
        "        short_text.append(cleaned_text[i])\n",
        "        short_summary.append(cleaned_summary[i])\n",
        "        \n",
        "df=pd.DataFrame({'text':short_text,'summary':short_summary})"
      ],
      "execution_count": null,
      "outputs": []
    },
    {
      "cell_type": "markdown",
      "metadata": {
        "id": "tR1uh8xSNUma"
      },
      "source": [
        "We have to add the **START** and **END** special tokens at the beginning and end of the summary which does not appear anywhere in the summary.\n",
        "\n"
      ]
    },
    {
      "cell_type": "code",
      "metadata": {
        "id": "EwLUH78CFxhg",
        "execution": {
          "iopub.status.busy": "2021-10-22T13:29:11.580248Z",
          "iopub.execute_input": "2021-10-22T13:29:11.580541Z",
          "iopub.status.idle": "2021-10-22T13:29:11.660038Z",
          "shell.execute_reply.started": "2021-10-22T13:29:11.5805Z",
          "shell.execute_reply": "2021-10-22T13:29:11.659153Z"
        },
        "trusted": true
      },
      "source": [
        "df['summary'] = df['summary'].apply(lambda x : 'sostok '+ x + ' eostok')"
      ],
      "execution_count": null,
      "outputs": []
    },
    {
      "cell_type": "markdown",
      "metadata": {
        "id": "1GlcX4RFOh13"
      },
      "source": [
        "### Splitting the Data\n",
        "We split our dataset into a training and validation set. We’ll use 90% of the dataset as the training data and 10% as the validation set."
      ]
    },
    {
      "cell_type": "code",
      "metadata": {
        "id": "RakakKHcFxhl",
        "execution": {
          "iopub.status.busy": "2021-10-22T13:29:11.662065Z",
          "iopub.execute_input": "2021-10-22T13:29:11.662546Z",
          "iopub.status.idle": "2021-10-22T13:29:11.690588Z",
          "shell.execute_reply.started": "2021-10-22T13:29:11.662499Z",
          "shell.execute_reply": "2021-10-22T13:29:11.689438Z"
        },
        "trusted": true
      },
      "source": [
        "from sklearn.model_selection import train_test_split\n",
        "x_tr,x_val,y_tr,y_val=train_test_split(np.array(df['text']),np.array(df['summary']),test_size=0.1,random_state=0,shuffle=True) "
      ],
      "execution_count": null,
      "outputs": []
    },
    {
      "cell_type": "markdown",
      "metadata": {
        "id": "Vq1mqyOHOtIl"
      },
      "source": [
        "### Text Tokenizer\n",
        "\n",
        "A tokenizer builds the vocabulary and converts a word sequence to an integer sequence. "
      ]
    },
    {
      "cell_type": "code",
      "metadata": {
        "id": "oRHTgX6hFxhq",
        "execution": {
          "iopub.status.busy": "2021-10-22T13:29:11.692322Z",
          "iopub.execute_input": "2021-10-22T13:29:11.692689Z",
          "iopub.status.idle": "2021-10-22T13:29:14.505366Z",
          "shell.execute_reply.started": "2021-10-22T13:29:11.692646Z",
          "shell.execute_reply": "2021-10-22T13:29:14.504346Z"
        },
        "trusted": true
      },
      "source": [
        "from keras.preprocessing.text import Tokenizer \n",
        "from keras.preprocessing.sequence import pad_sequences\n",
        "\n",
        "#prepare a tokenizer for reviews on training data\n",
        "x_tokenizer = Tokenizer() \n",
        "x_tokenizer.fit_on_texts(list(x_tr))"
      ],
      "execution_count": null,
      "outputs": []
    },
    {
      "cell_type": "markdown",
      "metadata": {
        "id": "RzvLwYL_PDcx"
      },
      "source": [
        "### Rarewords and its Coverage\n",
        "\n",
        "We are taking the threshold of 4 for rare words. We will find proportion and total coverage of rare words in entire text\n"
      ]
    },
    {
      "cell_type": "code",
      "metadata": {
        "id": "y8KronV2Fxhx",
        "execution": {
          "iopub.status.busy": "2021-10-22T13:29:14.507317Z",
          "iopub.execute_input": "2021-10-22T13:29:14.507652Z",
          "iopub.status.idle": "2021-10-22T13:29:14.544154Z",
          "shell.execute_reply.started": "2021-10-22T13:29:14.507604Z",
          "shell.execute_reply": "2021-10-22T13:29:14.543023Z"
        },
        "trusted": true,
        "colab": {
          "base_uri": "https://localhost:8080/"
        },
        "outputId": "0c0ef635-01e9-4b4e-e079-61e66ed86833"
      },
      "source": [
        "thresh=4\n",
        "\n",
        "cnt=0\n",
        "tot_cnt=0\n",
        "freq=0\n",
        "tot_freq=0\n",
        "\n",
        "for key,value in x_tokenizer.word_counts.items():\n",
        "    tot_cnt=tot_cnt+1\n",
        "    tot_freq=tot_freq+value\n",
        "    if(value<thresh):\n",
        "        cnt=cnt+1\n",
        "        freq=freq+value\n",
        "    \n",
        "print(\"% of rare words in vocabulary:\",(cnt/tot_cnt)*100)\n",
        "print(\"Total Coverage of rare words:\",(freq/tot_freq)*100)"
      ],
      "execution_count": null,
      "outputs": [
        {
          "output_type": "stream",
          "name": "stdout",
          "text": [
            "% of rare words in vocabulary: 57.2028011283102\n",
            "Total Coverage of rare words: 2.0679543725417617\n"
          ]
        }
      ]
    },
    {
      "cell_type": "code",
      "metadata": {
        "id": "J2giEsF3Fxh3",
        "execution": {
          "iopub.status.busy": "2021-10-22T13:29:14.545601Z",
          "iopub.execute_input": "2021-10-22T13:29:14.546432Z",
          "iopub.status.idle": "2021-10-22T13:29:21.244287Z",
          "shell.execute_reply.started": "2021-10-22T13:29:14.546385Z",
          "shell.execute_reply": "2021-10-22T13:29:21.242205Z"
        },
        "trusted": true
      },
      "source": [
        "#prepare a tokenizer for reviews on training data\n",
        "x_tokenizer = Tokenizer(num_words=tot_cnt-cnt) \n",
        "x_tokenizer.fit_on_texts(list(x_tr))\n",
        "\n",
        "#convert text sequences into integer sequences\n",
        "x_tr_seq    =   x_tokenizer.texts_to_sequences(x_tr) \n",
        "x_val_seq   =   x_tokenizer.texts_to_sequences(x_val)\n",
        "\n",
        "#padding zero upto maximum length\n",
        "x_tr    =   pad_sequences(x_tr_seq,  maxlen=max_text_len, padding='post')\n",
        "x_val   =   pad_sequences(x_val_seq, maxlen=max_text_len, padding='post')\n",
        "\n",
        "#size of vocabulary ( +1 for padding token)\n",
        "x_voc   =  x_tokenizer.num_words + 1"
      ],
      "execution_count": null,
      "outputs": []
    },
    {
      "cell_type": "code",
      "metadata": {
        "id": "DCbGMsm4FxiA",
        "execution": {
          "iopub.status.busy": "2021-10-22T13:29:21.245815Z",
          "iopub.execute_input": "2021-10-22T13:29:21.246178Z",
          "iopub.status.idle": "2021-10-22T13:29:21.256425Z",
          "shell.execute_reply.started": "2021-10-22T13:29:21.246119Z",
          "shell.execute_reply": "2021-10-22T13:29:21.254742Z"
        },
        "trusted": true,
        "colab": {
          "base_uri": "https://localhost:8080/"
        },
        "outputId": "160fccb9-88e7-4572-b3ae-78e4b654bb9e"
      },
      "source": [
        "x_voc"
      ],
      "execution_count": null,
      "outputs": [
        {
          "output_type": "execute_result",
          "data": {
            "text/plain": [
              "30497"
            ]
          },
          "metadata": {},
          "execution_count": 33
        }
      ]
    },
    {
      "cell_type": "markdown",
      "metadata": {
        "id": "uQfKP3sqRxi9"
      },
      "source": [
        "### Summary Tokenizer"
      ]
    },
    {
      "cell_type": "code",
      "metadata": {
        "id": "eRHqyBkBFxiJ",
        "execution": {
          "iopub.status.busy": "2021-10-22T13:29:21.25932Z",
          "iopub.execute_input": "2021-10-22T13:29:21.259744Z",
          "iopub.status.idle": "2021-10-22T13:29:22.933316Z",
          "shell.execute_reply.started": "2021-10-22T13:29:21.259659Z",
          "shell.execute_reply": "2021-10-22T13:29:22.93222Z"
        },
        "trusted": true
      },
      "source": [
        "#prepare a tokenizer for reviews on training data\n",
        "y_tokenizer = Tokenizer()   \n",
        "y_tokenizer.fit_on_texts(list(y_tr))"
      ],
      "execution_count": null,
      "outputs": []
    },
    {
      "cell_type": "markdown",
      "metadata": {
        "id": "KInA6O6ZSkJz"
      },
      "source": [
        "Here we are taking the threshold of 6 for rare words. We will find proportion and total coverage of rare words in entire text"
      ]
    },
    {
      "cell_type": "code",
      "metadata": {
        "id": "yzE5OiRLFxiM",
        "execution": {
          "iopub.status.busy": "2021-10-22T13:29:22.934984Z",
          "iopub.execute_input": "2021-10-22T13:29:22.935308Z",
          "iopub.status.idle": "2021-10-22T13:29:22.959496Z",
          "shell.execute_reply.started": "2021-10-22T13:29:22.935258Z",
          "shell.execute_reply": "2021-10-22T13:29:22.958141Z"
        },
        "trusted": true,
        "colab": {
          "base_uri": "https://localhost:8080/"
        },
        "outputId": "afc2ac09-d1bb-494d-a29c-e945051a6d6c"
      },
      "source": [
        "thresh=6\n",
        "\n",
        "cnt=0\n",
        "tot_cnt=0\n",
        "freq=0\n",
        "tot_freq=0\n",
        "\n",
        "for key,value in y_tokenizer.word_counts.items():\n",
        "    tot_cnt=tot_cnt+1\n",
        "    tot_freq=tot_freq+value\n",
        "    if(value<thresh):\n",
        "        cnt=cnt+1\n",
        "        freq=freq+value\n",
        "    \n",
        "print(\"% of rare words in vocabulary:\",(cnt/tot_cnt)*100)\n",
        "print(\"Total Coverage of rare words:\",(freq/tot_freq)*100)"
      ],
      "execution_count": null,
      "outputs": [
        {
          "output_type": "stream",
          "name": "stdout",
          "text": [
            "% of rare words in vocabulary: 64.74296484044973\n",
            "Total Coverage of rare words: 3.987030893861561\n"
          ]
        }
      ]
    },
    {
      "cell_type": "code",
      "metadata": {
        "id": "-fswLvIgFxiR",
        "execution": {
          "iopub.status.busy": "2021-10-22T13:29:22.961371Z",
          "iopub.execute_input": "2021-10-22T13:29:22.962027Z",
          "iopub.status.idle": "2021-10-22T13:29:26.799274Z",
          "shell.execute_reply.started": "2021-10-22T13:29:22.96196Z",
          "shell.execute_reply": "2021-10-22T13:29:26.798109Z"
        },
        "trusted": true
      },
      "source": [
        "#prepare a tokenizer for reviews on training data\n",
        "y_tokenizer = Tokenizer(num_words=tot_cnt-cnt) \n",
        "y_tokenizer.fit_on_texts(list(y_tr))\n",
        "\n",
        "#convert text sequences into integer sequences\n",
        "y_tr_seq    =   y_tokenizer.texts_to_sequences(y_tr) \n",
        "y_val_seq   =   y_tokenizer.texts_to_sequences(y_val) \n",
        "\n",
        "#padding zero upto maximum length\n",
        "y_tr    =   pad_sequences(y_tr_seq, maxlen=max_summary_len, padding='post')\n",
        "y_val   =   pad_sequences(y_val_seq, maxlen=max_summary_len, padding='post')\n",
        "\n",
        "#size of vocabulary\n",
        "y_voc  =   y_tokenizer.num_words +1"
      ],
      "execution_count": null,
      "outputs": []
    },
    {
      "cell_type": "markdown",
      "metadata": {
        "id": "LVFhFVguTTtw"
      },
      "source": [
        "Here, I am deleting the rows that contain only **START** and **END** tokens because it will not be useful for training. "
      ]
    },
    {
      "cell_type": "code",
      "metadata": {
        "id": "kZ-vW82sFxih",
        "execution": {
          "iopub.status.busy": "2021-10-22T13:29:26.818749Z",
          "iopub.execute_input": "2021-10-22T13:29:26.81954Z",
          "iopub.status.idle": "2021-10-22T13:29:29.76584Z",
          "shell.execute_reply.started": "2021-10-22T13:29:26.819493Z",
          "shell.execute_reply": "2021-10-22T13:29:29.764752Z"
        },
        "trusted": true
      },
      "source": [
        "ind=[]\n",
        "for i in range(len(y_tr)):\n",
        "    cnt=0\n",
        "    for j in y_tr[i]:\n",
        "        if j!=0:\n",
        "            cnt=cnt+1\n",
        "    if(cnt==2):\n",
        "        ind.append(i)\n",
        "\n",
        "y_tr=np.delete(y_tr,ind, axis=0)\n",
        "x_tr=np.delete(x_tr,ind, axis=0)"
      ],
      "execution_count": null,
      "outputs": []
    },
    {
      "cell_type": "code",
      "metadata": {
        "id": "cx5NISuMFxik",
        "execution": {
          "iopub.status.busy": "2021-10-22T13:29:29.780597Z",
          "iopub.execute_input": "2021-10-22T13:29:29.781052Z",
          "iopub.status.idle": "2021-10-22T13:29:30.157389Z",
          "shell.execute_reply.started": "2021-10-22T13:29:29.781004Z",
          "shell.execute_reply": "2021-10-22T13:29:30.156255Z"
        },
        "trusted": true
      },
      "source": [
        "ind=[]\n",
        "for i in range(len(y_val)):\n",
        "    cnt=0\n",
        "    for j in y_val[i]:\n",
        "        if j!=0:\n",
        "            cnt=cnt+1\n",
        "    if(cnt==2):\n",
        "        ind.append(i)\n",
        "\n",
        "y_val=np.delete(y_val,ind, axis=0)\n",
        "x_val=np.delete(x_val,ind, axis=0)"
      ],
      "execution_count": null,
      "outputs": []
    },
    {
      "cell_type": "markdown",
      "metadata": {
        "id": "Bzx86S4TafbJ"
      },
      "source": [
        "# Model building\n"
      ]
    },
    {
      "cell_type": "markdown",
      "metadata": {
        "id": "iiUZM8xcaN7m"
      },
      "source": [
        "### Custom Attention Layer\n",
        "\n",
        "We have to build custom attention layer because keras does not officially support attention layer. We will use third-party implementation of custom attention layer taken from [here](https://github.com/thushv89/attention_keras/blob/master/layers/attention.py) "
      ]
    },
    {
      "cell_type": "code",
      "metadata": {
        "id": "mZ7-Kz3jaOrp"
      },
      "source": [
        "class AttentionLayer(Layer):\n",
        "    \"\"\"\n",
        "    This class implements Bahdanau attention (https://arxiv.org/pdf/1409.0473.pdf).\n",
        "    There are three sets of weights introduced W_a, U_a, and V_a\n",
        "     \"\"\"\n",
        "\n",
        "    def __init__(self, **kwargs):\n",
        "        super(AttentionLayer, self).__init__(**kwargs)\n",
        "\n",
        "    def build(self, input_shape):\n",
        "        assert isinstance(input_shape, list)\n",
        "        # Create a trainable weight variable for this layer.\n",
        "\n",
        "        self.W_a = self.add_weight(name='W_a',\n",
        "                                   shape=tf.TensorShape((input_shape[0][2], input_shape[0][2])),\n",
        "                                   initializer='uniform',\n",
        "                                   trainable=True)\n",
        "        self.U_a = self.add_weight(name='U_a',\n",
        "                                   shape=tf.TensorShape((input_shape[1][2], input_shape[0][2])),\n",
        "                                   initializer='uniform',\n",
        "                                   trainable=True)\n",
        "        self.V_a = self.add_weight(name='V_a',\n",
        "                                   shape=tf.TensorShape((input_shape[0][2], 1)),\n",
        "                                   initializer='uniform',\n",
        "                                   trainable=True)\n",
        "\n",
        "        super(AttentionLayer, self).build(input_shape)  # Be sure to call this at the end\n",
        "\n",
        "    def call(self, inputs, verbose=False):\n",
        "        \"\"\"\n",
        "        inputs: [encoder_output_sequence, decoder_output_sequence]\n",
        "        \"\"\"\n",
        "        assert type(inputs) == list\n",
        "        encoder_out_seq, decoder_out_seq = inputs\n",
        "        if verbose:\n",
        "            print('encoder_out_seq>', encoder_out_seq.shape)\n",
        "            print('decoder_out_seq>', decoder_out_seq.shape)\n",
        "\n",
        "        def energy_step(inputs, states):\n",
        "            \"\"\" Step function for computing energy for a single decoder state\n",
        "            inputs: (batchsize * 1 * de_in_dim)\n",
        "            states: (batchsize * 1 * de_latent_dim)\n",
        "            \"\"\"\n",
        "\n",
        "            assert_msg = \"States must be an iterable. Got {} of type {}\".format(states, type(states))\n",
        "            assert isinstance(states, list) or isinstance(states, tuple), assert_msg\n",
        "\n",
        "            \"\"\" Some parameters required for shaping tensors\"\"\"\n",
        "            en_seq_len, en_hidden = encoder_out_seq.shape[1], encoder_out_seq.shape[2]\n",
        "            de_hidden = inputs.shape[-1]\n",
        "\n",
        "            \"\"\" Computing S.Wa where S=[s0, s1, ..., si]\"\"\"\n",
        "            # <= batch size * en_seq_len * latent_dim\n",
        "            W_a_dot_s = K.dot(encoder_out_seq, self.W_a)\n",
        "\n",
        "            \"\"\" Computing hj.Ua \"\"\"\n",
        "            U_a_dot_h = K.expand_dims(K.dot(inputs, self.U_a), 1)  # <= batch_size, 1, latent_dim\n",
        "            if verbose:\n",
        "                print('Ua.h>', U_a_dot_h.shape)\n",
        "\n",
        "            \"\"\" tanh(S.Wa + hj.Ua) \"\"\"\n",
        "            # <= batch_size*en_seq_len, latent_dim\n",
        "            Ws_plus_Uh = K.tanh(W_a_dot_s + U_a_dot_h)\n",
        "            if verbose:\n",
        "                print('Ws+Uh>', Ws_plus_Uh.shape)\n",
        "\n",
        "            \"\"\" softmax(va.tanh(S.Wa + hj.Ua)) \"\"\"\n",
        "            # <= batch_size, en_seq_len\n",
        "            e_i = K.squeeze(K.dot(Ws_plus_Uh, self.V_a), axis=-1)\n",
        "            # <= batch_size, en_seq_len\n",
        "            e_i = K.softmax(e_i)\n",
        "\n",
        "            if verbose:\n",
        "                print('ei>', e_i.shape)\n",
        "\n",
        "            return e_i, [e_i]\n",
        "\n",
        "        def context_step(inputs, states):\n",
        "            \"\"\" Step function for computing ci using ei \"\"\"\n",
        "\n",
        "            assert_msg = \"States must be an iterable. Got {} of type {}\".format(states, type(states))\n",
        "            assert isinstance(states, list) or isinstance(states, tuple), assert_msg\n",
        "\n",
        "            # <= batch_size, hidden_size\n",
        "            c_i = K.sum(encoder_out_seq * K.expand_dims(inputs, -1), axis=1)\n",
        "            if verbose:\n",
        "                print('ci>', c_i.shape)\n",
        "            return c_i, [c_i]\n",
        "\n",
        "        fake_state_c = K.sum(encoder_out_seq, axis=1)\n",
        "        fake_state_e = K.sum(encoder_out_seq, axis=2)  # <= (batch_size, enc_seq_len, latent_dim\n",
        "\n",
        "        \"\"\" Computing energy outputs \"\"\"\n",
        "        # e_outputs => (batch_size, de_seq_len, en_seq_len)\n",
        "        last_out, e_outputs, _ = K.rnn(\n",
        "            energy_step, decoder_out_seq, [fake_state_e],\n",
        "        )\n",
        "\n",
        "        \"\"\" Computing context vectors \"\"\"\n",
        "        last_out, c_outputs, _ = K.rnn(\n",
        "            context_step, e_outputs, [fake_state_c],\n",
        "        )\n",
        "\n",
        "        return c_outputs, e_outputs\n",
        "\n",
        "    def compute_output_shape(self, input_shape):\n",
        "        \"\"\" Outputs produced by the layer \"\"\"\n",
        "        return [\n",
        "            tf.TensorShape((input_shape[1][0], input_shape[1][1], input_shape[1][2])),\n",
        "            tf.TensorShape((input_shape[1][0], input_shape[1][1], input_shape[0][1]))\n",
        "        ]"
      ],
      "execution_count": null,
      "outputs": []
    },
    {
      "cell_type": "markdown",
      "metadata": {
        "id": "aJGfbYS_ab2U"
      },
      "source": [
        "\n",
        "We are building model with encoder-deocder architecture having global attention (bahadau attention model). \n",
        "- Encoder contains a **embedding** layer, followed by 3 stacked **LSTM** layers one after another.\n",
        "- Decoder also contains a **embedding** layer followed by **LSTM** layers and a **Dense** layer.\n",
        "- Global Attention layer is there which takes in encoder outputs and decoder outputs.\n",
        "- Model is reasonably small to reduce traning time and it can easily summarize reviews which of max_length 50 \n"
      ]
    },
    {
      "cell_type": "code",
      "metadata": {
        "id": "zXef38nBFxir",
        "execution": {
          "iopub.status.busy": "2021-10-22T13:29:30.159062Z",
          "iopub.execute_input": "2021-10-22T13:29:30.159498Z",
          "iopub.status.idle": "2021-10-22T13:29:34.660988Z",
          "shell.execute_reply.started": "2021-10-22T13:29:30.159453Z",
          "shell.execute_reply": "2021-10-22T13:29:34.659855Z"
        },
        "trusted": true,
        "colab": {
          "base_uri": "https://localhost:8080/"
        },
        "outputId": "7bb49448-cfde-4def-c414-3ecbcb3c0310"
      },
      "source": [
        "from keras import backend as K \n",
        "K.clear_session()\n",
        "\n",
        "latent_dim = 500\n",
        "embedding_dim=500\n",
        "\n",
        "# Encoder\n",
        "encoder_inputs = Input(shape=(max_text_len,))\n",
        "\n",
        "#embedding layer\n",
        "enc_emb =  Embedding(x_voc, embedding_dim,trainable=True)(encoder_inputs)\n",
        "\n",
        "#encoder lstm 1\n",
        "encoder_lstm1 = LSTM(latent_dim,return_sequences=True,return_state=True)\n",
        "encoder_output1, state_h1, state_c1 = encoder_lstm1(enc_emb)\n",
        "\n",
        "#encoder lstm 2\n",
        "encoder_lstm2 = LSTM(latent_dim,return_sequences=True,return_state=True)\n",
        "encoder_output2, state_h2, state_c2 = encoder_lstm2(encoder_output1)\n",
        "\n",
        "#encoder lstm 3\n",
        "encoder_lstm3=LSTM(latent_dim, return_state=True, return_sequences=True)\n",
        "encoder_outputs, state_h, state_c= encoder_lstm3(encoder_output2)\n",
        "\n",
        "# Set up the decoder, using `encoder_states` as initial state.\n",
        "decoder_inputs = Input(shape=(None,))\n",
        "\n",
        "#embedding layer\n",
        "dec_emb_layer = Embedding(y_voc, embedding_dim,trainable=True)\n",
        "dec_emb = dec_emb_layer(decoder_inputs)\n",
        "\n",
        "decoder_lstm = LSTM(latent_dim, return_sequences=True, return_state=True)\n",
        "decoder_outputs,decoder_fwd_state, decoder_back_state = decoder_lstm(dec_emb,initial_state=[state_h, state_c])\n",
        "\n",
        "# Attention layer\n",
        "attn_layer = AttentionLayer(name='attention_layer')\n",
        "attn_out, attn_states = attn_layer([encoder_outputs, decoder_outputs])\n",
        "# encode_outputs=attn_out\n",
        "# decide_outputs=attn_states\n",
        "\n",
        "# Concat attention input and decoder LSTM output\n",
        "decoder_concat_input = Concatenate(axis=-1, name='concat_layer')([decoder_outputs, attn_out])\n",
        "\n",
        "#dense layer\n",
        "decoder_dense =  TimeDistributed(Dense(y_voc, activation='softmax'))\n",
        "decoder_outputs = decoder_dense(decoder_concat_input)\n",
        "\n",
        "# Define the model \n",
        "model = Model([encoder_inputs, decoder_inputs], decoder_outputs)\n",
        "\n",
        "model.summary() "
      ],
      "execution_count": null,
      "outputs": [
        {
          "output_type": "stream",
          "name": "stdout",
          "text": [
            "Model: \"model\"\n",
            "__________________________________________________________________________________________________\n",
            " Layer (type)                   Output Shape         Param #     Connected to                     \n",
            "==================================================================================================\n",
            " input_1 (InputLayer)           [(None, 42)]         0           []                               \n",
            "                                                                                                  \n",
            " embedding (Embedding)          (None, 42, 500)      15248500    ['input_1[0][0]']                \n",
            "                                                                                                  \n",
            " lstm (LSTM)                    [(None, 42, 500),    2002000     ['embedding[0][0]']              \n",
            "                                 (None, 500),                                                     \n",
            "                                 (None, 500)]                                                     \n",
            "                                                                                                  \n",
            " input_2 (InputLayer)           [(None, None)]       0           []                               \n",
            "                                                                                                  \n",
            " lstm_1 (LSTM)                  [(None, 42, 500),    2002000     ['lstm[0][0]']                   \n",
            "                                 (None, 500),                                                     \n",
            "                                 (None, 500)]                                                     \n",
            "                                                                                                  \n",
            " embedding_1 (Embedding)        (None, None, 500)    5425500     ['input_2[0][0]']                \n",
            "                                                                                                  \n",
            " lstm_2 (LSTM)                  [(None, 42, 500),    2002000     ['lstm_1[0][0]']                 \n",
            "                                 (None, 500),                                                     \n",
            "                                 (None, 500)]                                                     \n",
            "                                                                                                  \n",
            " lstm_3 (LSTM)                  [(None, None, 500),  2002000     ['embedding_1[0][0]',            \n",
            "                                 (None, 500),                     'lstm_2[0][1]',                 \n",
            "                                 (None, 500)]                     'lstm_2[0][2]']                 \n",
            "                                                                                                  \n",
            " attention_layer (AttentionLaye  ((None, None, 500),  500500     ['lstm_2[0][0]',                 \n",
            " r)                              (None, None, 42))                'lstm_3[0][0]']                 \n",
            "                                                                                                  \n",
            " concat_layer (Concatenate)     (None, None, 1000)   0           ['lstm_3[0][0]',                 \n",
            "                                                                  'attention_layer[0][0]']        \n",
            "                                                                                                  \n",
            " time_distributed (TimeDistribu  (None, None, 10851)  10861851   ['concat_layer[0][0]']           \n",
            " ted)                                                                                             \n",
            "                                                                                                  \n",
            "==================================================================================================\n",
            "Total params: 40,044,351\n",
            "Trainable params: 40,044,351\n",
            "Non-trainable params: 0\n",
            "__________________________________________________________________________________________________\n"
          ]
        }
      ]
    },
    {
      "cell_type": "markdown",
      "metadata": {
        "id": "0ZVlfRuMUcoP"
      },
      "source": [
        "We are using sparse categorical cross-entropy as the loss function since it converts the integer sequence to a one-hot vector."
      ]
    },
    {
      "cell_type": "code",
      "metadata": {
        "id": "Lwfi1Fm8Fxiz",
        "execution": {
          "iopub.status.busy": "2021-10-22T13:29:34.663429Z",
          "iopub.execute_input": "2021-10-22T13:29:34.663753Z",
          "iopub.status.idle": "2021-10-22T13:29:34.68255Z",
          "shell.execute_reply.started": "2021-10-22T13:29:34.663708Z",
          "shell.execute_reply": "2021-10-22T13:29:34.681207Z"
        },
        "trusted": true
      },
      "source": [
        "model.compile(optimizer='adam', loss='sparse_categorical_crossentropy')"
      ],
      "execution_count": null,
      "outputs": []
    },
    {
      "cell_type": "code",
      "source": [
        "print(model.summary())"
      ],
      "metadata": {
        "colab": {
          "base_uri": "https://localhost:8080/"
        },
        "id": "k-q3bHqT3qum",
        "outputId": "fc4d6ec9-ac0f-4200-f6db-1a9f9a6a207a"
      },
      "execution_count": null,
      "outputs": [
        {
          "output_type": "stream",
          "name": "stdout",
          "text": [
            "Model: \"model\"\n",
            "__________________________________________________________________________________________________\n",
            " Layer (type)                   Output Shape         Param #     Connected to                     \n",
            "==================================================================================================\n",
            " input_1 (InputLayer)           [(None, 42)]         0           []                               \n",
            "                                                                                                  \n",
            " embedding (Embedding)          (None, 42, 500)      15248500    ['input_1[0][0]']                \n",
            "                                                                                                  \n",
            " lstm (LSTM)                    [(None, 42, 500),    2002000     ['embedding[0][0]']              \n",
            "                                 (None, 500),                                                     \n",
            "                                 (None, 500)]                                                     \n",
            "                                                                                                  \n",
            " input_2 (InputLayer)           [(None, None)]       0           []                               \n",
            "                                                                                                  \n",
            " lstm_1 (LSTM)                  [(None, 42, 500),    2002000     ['lstm[0][0]']                   \n",
            "                                 (None, 500),                                                     \n",
            "                                 (None, 500)]                                                     \n",
            "                                                                                                  \n",
            " embedding_1 (Embedding)        (None, None, 500)    5425500     ['input_2[0][0]']                \n",
            "                                                                                                  \n",
            " lstm_2 (LSTM)                  [(None, 42, 500),    2002000     ['lstm_1[0][0]']                 \n",
            "                                 (None, 500),                                                     \n",
            "                                 (None, 500)]                                                     \n",
            "                                                                                                  \n",
            " lstm_3 (LSTM)                  [(None, None, 500),  2002000     ['embedding_1[0][0]',            \n",
            "                                 (None, 500),                     'lstm_2[0][1]',                 \n",
            "                                 (None, 500)]                     'lstm_2[0][2]']                 \n",
            "                                                                                                  \n",
            " attention_layer (AttentionLaye  ((None, None, 500),  500500     ['lstm_2[0][0]',                 \n",
            " r)                              (None, None, 42))                'lstm_3[0][0]']                 \n",
            "                                                                                                  \n",
            " concat_layer (Concatenate)     (None, None, 1000)   0           ['lstm_3[0][0]',                 \n",
            "                                                                  'attention_layer[0][0]']        \n",
            "                                                                                                  \n",
            " time_distributed (TimeDistribu  (None, None, 10851)  10861851   ['concat_layer[0][0]']           \n",
            " ted)                                                                                             \n",
            "                                                                                                  \n",
            "==================================================================================================\n",
            "Total params: 40,044,351\n",
            "Trainable params: 40,044,351\n",
            "Non-trainable params: 0\n",
            "__________________________________________________________________________________________________\n",
            "None\n"
          ]
        }
      ]
    },
    {
      "cell_type": "markdown",
      "metadata": {
        "id": "p0ykDbxfUhyw"
      },
      "source": [
        "# Training the Model\n",
        "\n",
        "We are using early stopping to monitor the validation loss metric. Our model will stop traning if the validation loss starts increasing.\n",
        "\n",
        "We’ll train the model on a batch size of 128 and validate it on the holdout set (which is 10% of our dataset):"
      ]
    },
    {
      "cell_type": "code",
      "source": [
        "model = tf.keras.models.load_model('/content/drive/MyDrive/news embedding 500/model/my_model.h5',custom_objects={\"AttentionLayer\":AttentionLayer})"
      ],
      "metadata": {
        "id": "YFux1muI5s4x"
      },
      "execution_count": null,
      "outputs": []
    },
    {
      "cell_type": "code",
      "metadata": {
        "id": "s-A3J92MUljB",
        "execution": {
          "iopub.status.busy": "2021-10-22T13:29:34.684785Z",
          "iopub.execute_input": "2021-10-22T13:29:34.685505Z",
          "iopub.status.idle": "2021-10-22T13:29:34.69207Z",
          "shell.execute_reply.started": "2021-10-22T13:29:34.685459Z",
          "shell.execute_reply": "2021-10-22T13:29:34.690811Z"
        },
        "trusted": true
      },
      "source": [
        "es = EarlyStopping(monitor='val_loss', mode='min', verbose=1,patience=1)"
      ],
      "execution_count": null,
      "outputs": []
    },
    {
      "cell_type": "code",
      "source": [
        "checkpoint_path = \"/content/drive/MyDrive/new 0/cp.ckpt\"\n",
        "checkpoint_dir = os.path.dirname(checkpoint_path)\n",
        "\n",
        "# Create a callback that saves the model's weights\n",
        "cp_callback = tf.keras.callbacks.ModelCheckpoint(filepath=checkpoint_path,\n",
        "                                                 save_weights_only=True,\n",
        "                                                 verbose=1)\n",
        "\n",
        "# Train the model with the new callback\n"
      ],
      "metadata": {
        "id": "wXHRYwP73Es9"
      },
      "execution_count": null,
      "outputs": []
    },
    {
      "cell_type": "code",
      "metadata": {
        "id": "ETnPzA4OFxi3",
        "execution": {
          "iopub.status.busy": "2021-10-22T13:29:34.69403Z",
          "iopub.execute_input": "2021-10-22T13:29:34.694862Z",
          "iopub.status.idle": "2021-10-22T13:40:20.447735Z",
          "shell.execute_reply.started": "2021-10-22T13:29:34.694723Z",
          "shell.execute_reply": "2021-10-22T13:40:20.446057Z"
        },
        "trusted": true,
        "colab": {
          "base_uri": "https://localhost:8080/"
        },
        "outputId": "d8aea447-6859-4845-91fc-e2d2af81805f"
      },
      "source": [
        "history=model.fit([x_tr,y_tr[:,:-1]], y_tr.reshape(y_tr.shape[0],y_tr.shape[1], 1)[:,1:] ,epochs=30,callbacks=[es,cp_callback],batch_size=128, validation_data=([x_val,y_val[:,:-1]], y_val.reshape(y_val.shape[0],y_val.shape[1], 1)[:,1:]))"
      ],
      "execution_count": null,
      "outputs": [
        {
          "output_type": "stream",
          "name": "stdout",
          "text": [
            "Epoch 1/30\n",
            "667/667 [==============================] - ETA: 0s - loss: 1.5019\n",
            "Epoch 1: saving model to /content/drive/MyDrive/new 0/cp.ckpt\n",
            "667/667 [==============================] - 242s 363ms/step - loss: 1.5019 - val_loss: 3.4686\n",
            "Epoch 2/30\n",
            "667/667 [==============================] - ETA: 0s - loss: 1.2327\n",
            "Epoch 2: saving model to /content/drive/MyDrive/new 0/cp.ckpt\n",
            "667/667 [==============================] - 242s 363ms/step - loss: 1.2327 - val_loss: 3.5645\n",
            "Epoch 2: early stopping\n"
          ]
        }
      ]
    },
    {
      "cell_type": "markdown",
      "metadata": {
        "id": "0ezKYOp2UxG5"
      },
      "source": [
        "### Plot of Training and Validation loss\n",
        "\n"
      ]
    },
    {
      "cell_type": "code",
      "metadata": {
        "id": "tDTNLAURFxjE",
        "execution": {
          "iopub.status.busy": "2021-10-22T13:40:25.82791Z",
          "iopub.execute_input": "2021-10-22T13:40:25.828281Z",
          "iopub.status.idle": "2021-10-22T13:40:25.856019Z",
          "shell.execute_reply.started": "2021-10-22T13:40:25.828232Z",
          "shell.execute_reply": "2021-10-22T13:40:25.854322Z"
        },
        "trusted": true,
        "colab": {
          "base_uri": "https://localhost:8080/",
          "height": 265
        },
        "outputId": "b61071a4-c4d0-4117-872a-c0b19d926da8"
      },
      "source": [
        "from matplotlib import pyplot\n",
        "pyplot.plot(history.history['loss'], label='train')\n",
        "pyplot.plot(history.history['val_loss'], label='test')\n",
        "pyplot.legend()\n",
        "pyplot.show()"
      ],
      "execution_count": null,
      "outputs": [
        {
          "output_type": "display_data",
          "data": {
            "text/plain": [
              "<Figure size 432x288 with 1 Axes>"
            ],
            "image/png": "[encoded data removed]"
          },
          "metadata": {
            "needs_background": "light"
          }
        }
      ]
    },
    {
      "cell_type": "markdown",
      "metadata": {
        "id": "HSyx-HvpUz2o"
      },
      "source": [
        "From the plot, we can infer that validation loss has increased after epoch 13 for 2 successive epochs. Hence, training is stopped at epoch 19.\n",
        "\n"
      ]
    },
    {
      "cell_type": "code",
      "metadata": {
        "id": "sBX0zZnOFxjW",
        "execution": {
          "iopub.status.busy": "2021-10-22T13:40:20.452217Z",
          "iopub.status.idle": "2021-10-22T13:40:20.45285Z",
          "shell.execute_reply.started": "2021-10-22T13:40:20.452547Z",
          "shell.execute_reply": "2021-10-22T13:40:20.452593Z"
        },
        "trusted": true
      },
      "source": [
        "reverse_target_word_index=y_tokenizer.index_word\n",
        "reverse_source_word_index=x_tokenizer.index_word\n",
        "target_word_index=y_tokenizer.word_index"
      ],
      "execution_count": null,
      "outputs": []
    },
    {
      "cell_type": "markdown",
      "metadata": {
        "id": "eM_nU_VvFxjq"
      },
      "source": [
        "# Inference\n",
        "\n",
        "Set up the inference for the encoder and decoder:"
      ]
    },
    {
      "cell_type": "code",
      "metadata": {
        "id": "9QkrNV-4Fxjt",
        "execution": {
          "iopub.status.busy": "2021-10-22T13:40:20.454755Z",
          "iopub.status.idle": "2021-10-22T13:40:20.455425Z",
          "shell.execute_reply.started": "2021-10-22T13:40:20.455048Z",
          "shell.execute_reply": "2021-10-22T13:40:20.455087Z"
        },
        "trusted": true
      },
      "source": [
        "# Encode the input sequence to get the feature vector\n",
        "encoder_model = Model(inputs=encoder_inputs,outputs=[encoder_outputs, state_h, state_c])\n",
        "\n",
        "# Decoder setup\n",
        "# Below tensors will hold the states of the previous time step\n",
        "decoder_state_input_h = Input(shape=(latent_dim,))\n",
        "decoder_state_input_c = Input(shape=(latent_dim,))\n",
        "decoder_hidden_state_input = Input(shape=(max_text_len,latent_dim))\n",
        "\n",
        "# Get the embeddings of the decoder sequence\n",
        "dec_emb2= dec_emb_layer(decoder_inputs) \n",
        "# To predict the next word in the sequence, set the initial states to the states from the previous time step\n",
        "decoder_outputs2, state_h2, state_c2 = decoder_lstm(dec_emb2, initial_state=[decoder_state_input_h, decoder_state_input_c])\n",
        "\n",
        "#attention inference\n",
        "attn_out_inf, attn_states_inf = attn_layer([decoder_hidden_state_input, decoder_outputs2])\n",
        "decoder_inf_concat = Concatenate(axis=-1, name='concat')([decoder_outputs2, attn_out_inf])\n",
        "\n",
        "# A dense softmax layer to generate prob dist. over the target vocabulary\n",
        "decoder_outputs2 = decoder_dense(decoder_inf_concat) \n",
        "\n",
        "# Final decoder model\n",
        "decoder_model = Model(\n",
        "    [decoder_inputs] + [decoder_hidden_state_input,decoder_state_input_h, decoder_state_input_c],\n",
        "    [decoder_outputs2] + [state_h2, state_c2])"
      ],
      "execution_count": null,
      "outputs": []
    },
    {
      "cell_type": "code",
      "metadata": {
        "id": "6f6TTFnBFxj6",
        "execution": {
          "iopub.status.busy": "2021-10-22T13:40:20.457572Z",
          "iopub.status.idle": "2021-10-22T13:40:20.458482Z",
          "shell.execute_reply.started": "2021-10-22T13:40:20.458138Z",
          "shell.execute_reply": "2021-10-22T13:40:20.458188Z"
        },
        "trusted": true
      },
      "source": [
        "def decode_sequence(input_seq):\n",
        "    # Encode the input as state vectors.\n",
        "    e_out, e_h, e_c = encoder_model.predict(input_seq)\n",
        "    \n",
        "    # Generate empty target sequence of length 1.\n",
        "    target_seq = np.zeros((1,1))\n",
        "    \n",
        "    # Populate the first word of target sequence with the start word.\n",
        "    target_seq[0, 0] = target_word_index['sostok']\n",
        "\n",
        "    stop_condition = False\n",
        "    decoded_sentence = ''\n",
        "    while not stop_condition:\n",
        "      \n",
        "        output_tokens, h, c = decoder_model.predict([target_seq] + [e_out, e_h, e_c])\n",
        "\n",
        "        # Sample a token\n",
        "        sampled_token_index = np.argmax(output_tokens[0, -1, :])\n",
        "        sampled_token = reverse_target_word_index[sampled_token_index]\n",
        "        \n",
        "        if(sampled_token!='eostok'):\n",
        "            decoded_sentence += ' '+sampled_token\n",
        "\n",
        "        # Exit condition: either hit max length or find stop word.\n",
        "        if (sampled_token == 'eostok'  or len(decoded_sentence.split()) >= (max_summary_len-1)):\n",
        "            stop_condition = True\n",
        "\n",
        "        # Update the target sequence (of length 1).\n",
        "        target_seq = np.zeros((1,1))\n",
        "        target_seq[0, 0] = sampled_token_index\n",
        "\n",
        "        # Update internal states\n",
        "        e_h, e_c = h, c\n",
        "\n",
        "    return decoded_sentence"
      ],
      "execution_count": null,
      "outputs": []
    },
    {
      "cell_type": "markdown",
      "metadata": {
        "id": "6GuDf4TPWt6_"
      },
      "source": [
        "Let us define the functions to convert an integer sequence to a word sequence for summary as well as the reviews:"
      ]
    },
    {
      "cell_type": "code",
      "metadata": {
        "id": "aAUntznIFxj9",
        "execution": {
          "iopub.status.busy": "2021-10-22T13:40:20.459952Z",
          "iopub.status.idle": "2021-10-22T13:40:20.461385Z",
          "shell.execute_reply.started": "2021-10-22T13:40:20.461002Z",
          "shell.execute_reply": "2021-10-22T13:40:20.461038Z"
        },
        "trusted": true
      },
      "source": [
        "def seq2summary(input_seq):\n",
        "    newString=''\n",
        "    for i in input_seq:\n",
        "        if((i!=0 and i!=target_word_index['sostok']) and i!=target_word_index['eostok']):\n",
        "            newString=newString+reverse_target_word_index[i]+' '\n",
        "    return newString\n",
        "\n",
        "def seq2text(input_seq):\n",
        "    newString=''\n",
        "    for i in input_seq:\n",
        "        if(i!=0):\n",
        "            newString=newString+reverse_source_word_index[i]+' '\n",
        "    return newString"
      ],
      "execution_count": null,
      "outputs": []
    },
    {
      "cell_type": "markdown",
      "metadata": {
        "id": "9gM4ALyfWwA9"
      },
      "source": [
        "### Summaries generated by the model:"
      ]
    },
    {
      "cell_type": "code",
      "source": [
        "file1 = open(\"MyFile.txt\",\"a\")"
      ],
      "metadata": {
        "id": "LStR9Pz80YUs"
      },
      "execution_count": null,
      "outputs": []
    },
    {
      "cell_type": "code",
      "metadata": {
        "id": "BUtQmQTmFxkI",
        "execution": {
          "iopub.status.busy": "2021-10-22T13:40:20.462885Z",
          "iopub.status.idle": "2021-10-22T13:40:20.464076Z",
          "shell.execute_reply.started": "2021-10-22T13:40:20.463733Z",
          "shell.execute_reply": "2021-10-22T13:40:20.463766Z"
        },
        "trusted": true,
        "colab": {
          "base_uri": "https://localhost:8080/"
        },
        "outputId": "e8e842d2-1a34-49d2-ee21-62dfd31c75fa"
      },
      "source": [
        "predicted = []\n",
        "for i in range(0,40):\n",
        "    print(\"Review:\",seq2text(x_tr[i]))\n",
        "    file1.write(\"Review:\"+seq2text(x_tr[i])+\"\\n\")\n",
        "    print(\"Original summary:\",seq2summary(y_tr[i]))\n",
        "    file1.write(\"Original summary:\"+seq2summary(y_tr[i])+\"\\n\")\n",
        "    print(\"Predicted summary:\",decode_sequence(x_tr[i].reshape(1,max_text_len)))\n",
        "    file1.write(\"Predicted summary:\"+decode_sequence(x_tr[i].reshape(1,max_text_len))+\"\\n\"+\"\\n\")\n",
        "    predicted.append(decode_sequence(x_tr[i].reshape(1,max_text_len)))\n",
        "    print(\"\\n\")"
      ],
      "execution_count": null,
      "outputs": [
        {
          "output_type": "stream",
          "name": "stdout",
          "text": [
            "Review: madrassas uttar pradesh bareilly defied state government order hoisting tricolour singing national anthem independence day may face action national security act bareilly divisional commissioner pv said adding madrassas across state followed government order said bareilly madrassas law \n",
            "Original summary: up which did not tricolour may face action \n",
            "Predicted summary:  up govt school country to hoist tricolour on day\n",
            "\n",
            "\n",
            "Review: pakistani doctor shakil afridi helped locate former al qaeda chief osama bin laden held jail nearly years arrested ties militant group us forces killed bin laden pakistan accused afridi running fake vaccination programme collected dna samples confirm bin laden identity \n",
            "Original summary: pak doctor who helped find bin laden held in jail since \n",
            "Predicted summary:  doctor who helped osama bin laden bin laden held released\n",
            "\n",
            "\n",
            "Review: new york based startup wearable made pair yoga pants called guides user yoga vibrates help embedded technology correct body posture using feedback pants encourage users gentle pulses around hips knees ankles dedicated app shows users yoga experience level \n",
            "Original summary: startup yoga pants to give correct \n",
            "Predicted summary:  startup makes pants to correct yoga videos\n",
            "\n",
            "\n",
            "Review: two german users exploited twitter bug writing character long tweet instead usual characters users able post beyond word limit long message url twitter temporarily suspended users accounts confirmed exploit fixed \n",
            "Original summary: twitter bug lets two users post character tweet \n",
            "Predicted summary:  twitter bug lets users read character in tweet\n",
            "\n",
            "\n",
            "Review: dinosaur bird capable flying despite skeletal differences modern birds breaks according study journal nature birds evolved jurassic era small feathered dinosaurs represent dinosaurs survived mass extinction event million years ago noted researchers studied million year old fossil using lasers \n",
            "Original summary: dinosaur bird could fly but in bursts study \n",
            "Predicted summary:  dinosaur bird could fly over years study\n",
            "\n",
            "\n",
            "Review: year old man attacked neighbour hammer killed hours later jumping mall mumbai sunday morning allegedly molested neighbour saved fellow residents screamed help later killed neighbour admitted hospital danger \n",
            "Original summary: yr old man attacks woman with hammer ends life in mumbai \n",
            "Predicted summary:  man attacks neighbour with hammer shot in mumbai\n",
            "\n",
            "\n",
            "Review: pm narendra modi independence day speech said free society country disgusting mentality rape citing example rapist awarded death penalty madhya pradesh fast track court pm modi asserted spread news make people aware one take law hands \n",
            "Original summary: have to free nation from rape mentality pm modi \n",
            "Predicted summary:  free speech of nation free to nation mentality pm modi\n",
            "\n",
            "\n",
            "Review: talking starring opposite katrina kaif first time upcoming dance movie varun dhawan said look good together added everyone knows huge star talk hardworking overcome many odds become today varun also called fantastic dancer \n",
            "Original summary: we will look very good together varun on starring with katrina \n",
            "Predicted summary:  look like varun dhawan on st look from varun\n",
            "\n",
            "\n",
            "Review: gel german nurse convicted killing patients suspected killed least people police said additional cases uncovered bodies people links convict exhumed gel reportedly admitted injecting patients lethal drugs trying revive order play hero \n",
            "Original summary: german killer nurse suspected of more murders police \n",
            "Predicted summary:  killer of killer killed in swedish mob funeral\n",
            "\n",
            "\n",
            "Review: launching swachhta hi sewa campaign union home minister rajnath singh friday said india expected open defecation free october providing toilet facility home ensure safety dignity women swachhta hi sewa campaign help improve nutrition productivity children rajnath added \n",
            "Original summary: india will be open defecation free by oct rajnath \n",
            "Predicted summary:  india will open defecation free by oct rajnath\n",
            "\n",
            "\n",
            "Review: government approved commerce giant amazon proposed million foreign direct investment retailing food products india per proposal company sell food products online via wholly owned subsidiary notably government allows fdi food retail including commerce provided items produced manufactured india \n",
            "Original summary: govt approves amazon proposal for crore fdi in food \n",
            "Predicted summary:  govt approves amazon proposal for fdi in food deal\n",
            "\n",
            "\n",
            "Review: early uber tesla investor jason recent show said would love see two startups merge reasoned startups similar market cap merged entity could beat everybody transportation also said ousted uber ceo travis kalanick would make great board member merged company \n",
            "Original summary: would love to see tesla merge with uber says early investor \n",
            "Predicted summary:  love love business or both uber uber investor\n",
            "\n",
            "\n",
            "Review: us defence department decided seize artwork created guantanamo bay detainees longer release artwork public prisoners also longer allowed give red cross send families attorneys detainees claimed artwork destroyed \n",
            "Original summary: us defence department to seize bay art \n",
            "Predicted summary:  us defence department to seize bay art\n",
            "\n",
            "\n",
            "Review: brazilian football club chapecoense santa state championship sunday five months players died plane crash colombia november club three surviving players signed new footballers season began january club also find replacements scouts medics staff \n",
            "Original summary: win title months after air crash killed team \n",
            "Predicted summary:  brazil team wins months after plane crash\n",
            "\n",
            "\n",
            "Review: women iran shared videos dancing online show support arrested teenager hojabri iranian authorities arrested hojabri posted videos dancing instagram without wearing mandatory headscarf iranian state media released video hojabri acknowledged breaking moral norms \n",
            "Original summary: iranian women dance to show support for arrested teenager \n",
            "Predicted summary:  iranian women dance to support teenager arrested\n",
            "\n",
            "\n",
            "Review: man slapped traffic constable vasai maharashtra stopped motorcycle rider wearing helmet allegedly jumping traffic signal sunday video incident surfaced social media non offence also registered accused means cannot arrested without warrant \n",
            "Original summary: man slaps traffic cop for stopping him for jumping signal \n",
            "Predicted summary:  man slaps traffic cop for stopping traffic as traffic\n",
            "\n",
            "\n",
            "Review: bjp leader subramanian swamy saturday alleged newly appointed rbi governor shaktikanta das highly corrupt person swamy said surprised man got removed finance ministry corruption brought governor asked thinks head rbi swamy named former iim bangalore professor vaidyanathan \n",
            "Original summary: rbi guv shaktikanta das is highly corrupt subramanian swamy \n",
            "Predicted summary:  rbi guv shaktikanta das is corrupt subramanian swamy\n",
            "\n",
            "\n",
            "Review: addressing nation mann ki baat prime minister narendra modi sunday saluted women men lost lives mumbai attacks country remembers bows brave citizens policemen security personnel lost lives said india never forget sacrifices added \n",
            "Original summary: salute all lives lost during mumbai attacks pm modi \n",
            "Predicted summary:  salute of pm modi jawans who died in mumbai pm\n",
            "\n",
            "\n",
            "Review: rishi kapoor took twitter express disappointment cartoon recent fire rk studios wrote take objection kind sick humour cartoon depicts rk studios burning raj kapoor says fire good omen life began aag aag rk studios first film \n",
            "Original summary: rishi calls cartoon on rk studios fire sick humour \n",
            "Predicted summary:  rishi kapoor trolls paparazzi for rk studios fire sick\n",
            "\n",
            "\n",
            "Review: plastic surgeons us army centre successfully transplanted new ear year old soldier lost left ear car accident two years ago total ear reconstruction first kind army involved harvesting cartilage patient ribs ear placed forearm skin grow \n",
            "Original summary: soldier receives ear transplant from ear grown on her arm \n",
            "Predicted summary:  us army gets pregnant teen ear after years\n",
            "\n",
            "\n",
            "Review: nasa new planet hunting telescope captured test image centred constellation revealing stars spacecraft passed kilometres moon provided gravity assist enter elliptical orbit around earth transiting exoplanet survey satellite expected begin science operations june release first light image \n",
            "Original summary: nasa planet hunting telescope captures lakh stars in pic \n",
            "Predicted summary:  nasa planet hunting telescope captures new planet\n",
            "\n",
            "\n",
            "Review: swara bhasker recently deactivated twitter account said digital detox able enjoy holiday europe time tracking happening india felt getting addicted twitter added said account returning india next week \n",
            "Original summary: am on digital swara on twitter account \n",
            "Predicted summary:  swara talks about twitter users on twitter users\n",
            "\n",
            "\n",
            "Review: india called upon people venezuela find solution resolve political crisis dialogue without resorting violence believe democracy peace security venezuela paramount importance prosperity people foreign ministry said crisis broke opposition leader juan guaid declared venezuela interim president \n",
            "Original summary: resolve issue through dialogue india on venezuela crisis \n",
            "Predicted summary:  india is no political country in democracy venezuela\n",
            "\n",
            "\n",
            "Review: chinese smartphone maker xiaomi ceo lei jun said company plans invest billion indian startups next five years lei also said xiaomi already invested six indian companies including hungama xiaomi accounted smartphone shipments india september quarter according research firm idc \n",
            "Original summary: xiaomi plans to invest bn in indian startups ceo \n",
            "Predicted summary:  xiaomi plans to invest bn in indian startups ceo\n",
            "\n",
            "\n",
            "Review: vice president venkaiah naidu saturday inaugurated eighth theatre olympics red fort delhi day international theatre festival shows held cities including chandigarh bengaluru mumbai theme event flag friendship aims bring people different cultures together medium theatrical art \n",
            "Original summary: delhi hosts theatre olympics at red fort \n",
            "Predicted summary:  vp naidu inaugurates national flag at delhi red fort\n",
            "\n",
            "\n",
            "Review: american researchers developed method generating numbers guaranteed random using photons particles light based quantum mechanics random numbers employed large scale data electronic networks however numbers generated software physical devices could predicted undermining system security said researchers \n",
            "Original summary: scientists generate random numbers using particles of light \n",
            "Predicted summary:  scientists generate random numbers using particles of light\n",
            "\n",
            "\n",
            "Review: bitcoin percentage share total cryptocurrency market capitalisation slipped record low bitcoin market valuation billion combined market valuation cryptocurrencies nearly billion however bitcoin rival cryptocurrency ethereum hit time high wednesday surging nearly year \n",
            "Original summary: bitcoin share of crypto market hits record low of \n",
            "Predicted summary:  bitcoin market cap hits the record high of\n",
            "\n",
            "\n",
            "Review: material engineers working european space agency printed bricks simulated lunar dust solar furnace team built cubic cm brick five hours focusing sunlight lunar material layer layer technique could improvised build colonies moon said esa \n",
            "Original summary: engineers print bricks out of \n",
            "Predicted summary:  scientists propose to look for alien dust\n",
            "\n",
            "\n",
            "Review: leaders congress telangana unit gone hour hunger strike suspension congress mlas expulsion two mlas protesting governor address meanwhile congress mlas also planning move high court suspension one mlas thrown headphone trs council head swamy goud damaged cornea \n",
            "Original summary: gana cong goes on hunger strike against mlas suspension \n",
            "Predicted summary:  gana cong leaders go on hunger strike over citizenship bill\n",
            "\n",
            "\n",
            "Review: disruptions demonetisation events surrounding implementation gst led setback india economic momentum said world bank report added growth expected slowdown according bank gst expected disrupt economic activity early momentum pick \n",
            "Original summary: note ban gst caused to indian economy world bank \n",
            "Predicted summary:  note ban gst caused to in india economy\n",
            "\n",
            "\n",
            "Review: indian space research organisation begun preparation second lunar mission chandrayaan march next year nearly decade first mission flight integration activity going series tests planned lander rover isro chairman kiran kumar said totally indian mission collaboration added \n",
            "Original summary: india to make its second journey to the moon next year \n",
            "Predicted summary:  isro to launch second journey in next years\n",
            "\n",
            "\n",
            "Review: suspected case honour killing couple got married despite opposition woman family hacked death allegedly maternal uncles telangana thursday according police girl uncles reportedly rejected boy used drive autorickshaw living girl graduate \n",
            "Original summary: couple hacked to death in gana in suspected honour killing \n",
            "Predicted summary:  couple suspected of honour killing woman in tripura\n",
            "\n",
            "\n",
            "Review: real estate mogul turned us president donald trump said realised presidency like running business govern instincts add much heart soul decisions trump added trump said puts position people would get affected decisions \n",
            "Original summary: presidency not like running business needs heart trump \n",
            "Predicted summary:  presidency not responsible for business trump\n",
            "\n",
            "\n",
            "Review: oneplus become top selling premium smartphone india capturing market share according international data corporation latest quarterly mobile phone tracker moreover oneplus grew year year report added premium online smartphone market oneplus leader market share \n",
            "Original summary: oneplus top selling premium smartphone in india \n",
            "Predicted summary:  oneplus beats india to become most premium smartphone\n",
            "\n",
            "\n",
            "Review: committee formed human resource development ministry may recommend duration cbse class exams reduced seven four weeks attempt prevent paper leaks reports said committee formed leak class economics class maths paper april year \n",
            "Original summary: reduce cbse board exam from to weeks govt body \n",
            "Predicted summary:  cbse class board may be declared by weeks\n",
            "\n",
            "\n",
            "Review: following uttarakhand high court order declaring rivers ganga yamuna living entities agra based environmentalist asked police register case guilty attempting murder yamuna man identified brij khandelwal blamed officials various departments attempting kill river slow poison \n",
            "Original summary: seeks fir for attempt to murder on yamuna \n",
            "Predicted summary:  ganga witnesses dangerous crime for days\n",
            "\n",
            "\n",
            "Review: writer ghosh conferred th jnanpith award literary award presented author outstanding contribution towards literature ghosh first indian writer english win award ghosh path breaking novelist fiction depth substance statement bharatiya jnanpith read nn \n",
            "Original summary: ghosh becomes first writer in english to win \n",
            "Predicted summary:  ghosh wins oscar winning award by\n",
            "\n",
            "\n",
            "Review: noida police recovered body unidentified woman bag tuesday police suspect woman believed twenties killed another location body dumped spot found body sent post mortem ascertain whether raped killed \n",
            "Original summary: unidentified woman body found in bag in noida \n",
            "Predicted summary:  unidentified woman body found in bag in noida\n",
            "\n",
            "\n",
            "Review: russian ministry foreign affairs april posted spoof voicemail official facebook page embassy answering machines offering russian hackers services election interference callers reached russian embassy use services russian hackers press two request election interference press three message said \n",
            "Original summary: russia offers hackers services in april fools \n",
            "Predicted summary:  russia to introduce facebook post info on april\n",
            "\n",
            "\n",
            "Review: digital currency exchange announced reimburse customers suffered losses ethereum plummeted around cents seconds wednesday flash crash triggered one investor placing multi million dollar sell order however investors bought ethereum low prices crash trade still honoured \n",
            "Original summary: firm loss as digital currency fell from to \n",
            "Predicted summary:  digital currency exchange to be shut in\n",
            "\n",
            "\n"
          ]
        }
      ]
    },
    {
      "cell_type": "markdown",
      "metadata": {
        "id": "XInbFyX1hrOa"
      },
      "source": [
        "## Evaluation - BLEU Score\n"
      ]
    },
    {
      "cell_type": "code",
      "metadata": {
        "id": "unYRfU3LGaKE"
      },
      "source": [
        "from nltk.translate.bleu_score import sentence_bleu\n",
        "from nltk.translate.bleu_score import SmoothingFunction"
      ],
      "execution_count": null,
      "outputs": []
    },
    {
      "cell_type": "code",
      "metadata": {
        "id": "TXrn9dg7WwVM"
      },
      "source": [
        "summaries = list(y_tr)\n",
        "references = []\n",
        "for i in range(len(summaries)):\n",
        "    summ= seq2summary(summaries[i])\n",
        "    ref = summ.split()\n",
        "    references.append(ref)"
      ],
      "execution_count": null,
      "outputs": []
    },
    {
      "cell_type": "code",
      "metadata": {
        "colab": {
          "base_uri": "https://localhost:8080/"
        },
        "id": "Sof1xSgwFfIj",
        "outputId": "38e5661d-685f-41b5-bba7-bf91d3302dd4"
      },
      "source": [
        "refs = []\n",
        "smooth = SmoothingFunction().method4\n",
        "sum=0\n",
        "for i in range(40):\n",
        "    refs.append(references[i])\n",
        "    print(refs, predicted[i].split())\n",
        "    print(sentence_bleu(refs, predicted[i].split(), weights=(0.25,0.25,0.25,0.25)))\n",
        "    sum=sum+sentence_bleu(refs, predicted[i].split(), weights=(0.25,0.25,0.25,0.25))\n",
        "    refs.remove(references[i])\n",
        "print(sum/40)"
      ],
      "execution_count": null,
      "outputs": [
        {
          "output_type": "stream",
          "name": "stdout",
          "text": [
            "[['up', 'which', 'did', 'not', 'tricolour', 'may', 'face', 'action']] ['up', 'govt', 'school', 'country', 'to', 'hoist', 'tricolour', 'on', 'day']\n",
            "0.6865890479690392\n",
            "[['pak', 'doctor', 'who', 'helped', 'find', 'bin', 'laden', 'held', 'in', 'jail', 'since']] ['doctor', 'who', 'helped', 'osama', 'bin', 'laden', 'bin', 'laden', 'held', 'released']\n",
            "0.4597775238597381\n",
            "[['startup', 'yoga', 'pants', 'to', 'give', 'correct']] ['startup', 'makes', 'pants', 'to', 'correct', 'yoga', 'videos']\n",
            "0.5873949094699213\n",
            "[['twitter', 'bug', 'lets', 'two', 'users', 'post', 'character', 'tweet']] ['twitter', 'bug', 'lets', 'users', 'read', 'character', 'in', 'tweet']\n",
            "0.4347208719449914\n",
            "[['dinosaur', 'bird', 'could', 'fly', 'but', 'in', 'bursts', 'study']] ['dinosaur', 'bird', 'could', 'fly', 'over', 'years', 'study']\n",
            "0.3768499164492419\n",
            "[['yr', 'old', 'man', 'attacks', 'woman', 'with', 'hammer', 'ends', 'life', 'in', 'mumbai']] ['man', 'attacks', 'neighbour', 'with', 'hammer', 'shot', 'in', 'mumbai']\n",
            "0.5175003988026623\n",
            "[['have', 'to', 'free', 'nation', 'from', 'rape', 'mentality', 'pm', 'modi']] ['free', 'speech', 'of', 'nation', 'free', 'to', 'nation', 'mentality', 'pm', 'modi']\n",
            "0.35930411196308426\n",
            "[['we', 'will', 'look', 'very', 'good', 'together', 'varun', 'on', 'starring', 'with', 'katrina']] ['look', 'like', 'varun', 'dhawan', 'on', 'st', 'look', 'from', 'varun']\n",
            "0.6084288535721682\n",
            "[['german', 'killer', 'nurse', 'suspected', 'of', 'more', 'murders', 'police']] ['killer', 'of', 'killer', 'killed', 'in', 'swedish', 'mob', 'funeral']\n",
            "0.7071067811865476\n",
            "[['india', 'will', 'be', 'open', 'defecation', 'free', 'by', 'oct', 'rajnath']] ['india', 'will', 'open', 'defecation', 'free', 'by', 'oct', 'rajnath']\n",
            "0.6752918218126556\n",
            "[['govt', 'approves', 'amazon', 'proposal', 'for', 'crore', 'fdi', 'in', 'food']] ['govt', 'approves', 'amazon', 'proposal', 'for', 'fdi', 'in', 'food', 'deal']\n",
            "0.5969491792019646\n",
            "[['would', 'love', 'to', 'see', 'tesla', 'merge', 'with', 'uber', 'says', 'early', 'investor']] ['love', 'love', 'business', 'or', 'both', 'uber', 'uber', 'investor']\n",
            "0.5378329261427206\n",
            "[['us', 'defence', 'department', 'to', 'seize', 'bay', 'art']] ['us', 'defence', 'department', 'to', 'seize', 'bay', 'art']\n",
            "1.0\n",
            "[['win', 'title', 'months', 'after', 'air', 'crash', 'killed', 'team']] ['brazil', 'team', 'wins', 'months', 'after', 'plane', 'crash']\n",
            "0.481571310902054\n",
            "[['iranian', 'women', 'dance', 'to', 'show', 'support', 'for', 'arrested', 'teenager']] ['iranian', 'women', 'dance', 'to', 'support', 'teenager', 'arrested']\n",
            "0.355351672141186\n",
            "[['man', 'slaps', 'traffic', 'cop', 'for', 'stopping', 'him', 'for', 'jumping', 'signal']] ['man', 'slaps', 'traffic', 'cop', 'for', 'stopping', 'traffic', 'as', 'traffic']\n",
            "0.525624059490303\n",
            "[['rbi', 'guv', 'shaktikanta', 'das', 'is', 'highly', 'corrupt', 'subramanian', 'swamy']] ['rbi', 'guv', 'shaktikanta', 'das', 'is', 'corrupt', 'subramanian', 'swamy']\n",
            "0.6101950432112578\n",
            "[['salute', 'all', 'lives', 'lost', 'during', 'mumbai', 'attacks', 'pm', 'modi']] ['salute', 'of', 'pm', 'modi', 'jawans', 'who', 'died', 'in', 'mumbai', 'pm']\n",
            "0.4591497693322865\n",
            "[['rishi', 'calls', 'cartoon', 'on', 'rk', 'studios', 'fire', 'sick', 'humour']] ['rishi', 'kapoor', 'trolls', 'paparazzi', 'for', 'rk', 'studios', 'fire', 'sick']\n",
            "0.3155984539112945\n",
            "[['soldier', 'receives', 'ear', 'transplant', 'from', 'ear', 'grown', 'on', 'her', 'arm']] ['us', 'army', 'gets', 'pregnant', 'teen', 'ear', 'after', 'years']\n",
            "0.4630777161991027\n",
            "[['nasa', 'planet', 'hunting', 'telescope', 'captures', 'lakh', 'stars', 'in', 'pic']] ['nasa', 'planet', 'hunting', 'telescope', 'captures', 'new', 'planet']\n",
            "0.46199933699457096\n",
            "[['am', 'on', 'digital', 'swara', 'on', 'twitter', 'account']] ['swara', 'talks', 'about', 'twitter', 'users', 'on', 'twitter', 'users']\n",
            "0.48109772909788073\n",
            "[['resolve', 'issue', 'through', 'dialogue', 'india', 'on', 'venezuela', 'crisis']] ['india', 'is', 'no', 'political', 'country', 'in', 'democracy', 'venezuela']\n",
            "0.7071067811865476\n",
            "[['xiaomi', 'plans', 'to', 'invest', 'bn', 'in', 'indian', 'startups', 'ceo']] ['xiaomi', 'plans', 'to', 'invest', 'bn', 'in', 'indian', 'startups', 'ceo']\n",
            "1.0\n",
            "[['delhi', 'hosts', 'theatre', 'olympics', 'at', 'red', 'fort']] ['vp', 'naidu', 'inaugurates', 'national', 'flag', 'at', 'delhi', 'red', 'fort']\n",
            "0.48549177170732344\n",
            "[['scientists', 'generate', 'random', 'numbers', 'using', 'particles', 'of', 'light']] ['scientists', 'generate', 'random', 'numbers', 'using', 'particles', 'of', 'light']\n",
            "1.0\n",
            "[['bitcoin', 'share', 'of', 'crypto', 'market', 'hits', 'record', 'low', 'of']] ['bitcoin', 'market', 'cap', 'hits', 'the', 'record', 'high', 'of']\n",
            "0.7846630356446556\n",
            "[['engineers', 'print', 'bricks', 'out', 'of']] ['scientists', 'propose', 'to', 'look', 'for', 'alien', 'dust']\n",
            "0\n",
            "[['gana', 'cong', 'goes', 'on', 'hunger', 'strike', 'against', 'mlas', 'suspension']] ['gana', 'cong', 'leaders', 'go', 'on', 'hunger', 'strike', 'over', 'citizenship', 'bill']\n",
            "0.37991784282579627\n",
            "[['note', 'ban', 'gst', 'caused', 'to', 'indian', 'economy', 'world', 'bank']] ['note', 'ban', 'gst', 'caused', 'to', 'in', 'india', 'economy']\n",
            "0.47750342648354643\n",
            "[['india', 'to', 'make', 'its', 'second', 'journey', 'to', 'the', 'moon', 'next', 'year']] ['isro', 'to', 'launch', 'second', 'journey', 'in', 'next', 'years']\n",
            "0.355310106137518\n",
            "[['couple', 'hacked', 'to', 'death', 'in', 'gana', 'in', 'suspected', 'honour', 'killing']] ['couple', 'suspected', 'of', 'honour', 'killing', 'woman', 'in', 'tripura']\n",
            "0.4257178634163133\n",
            "[['presidency', 'not', 'like', 'running', 'business', 'needs', 'heart', 'trump']] ['presidency', 'not', 'responsible', 'for', 'business', 'trump']\n",
            "0.4329820146406897\n",
            "[['oneplus', 'top', 'selling', 'premium', 'smartphone', 'in', 'india']] ['oneplus', 'beats', 'india', 'to', 'become', 'most', 'premium', 'smartphone']\n",
            "0.5169731539571706\n",
            "[['reduce', 'cbse', 'board', 'exam', 'from', 'to', 'weeks', 'govt', 'body']] ['cbse', 'class', 'board', 'may', 'be', 'declared', 'by', 'weeks']\n",
            "0.6905911470987942\n",
            "[['seeks', 'fir', 'for', 'attempt', 'to', 'murder', 'on', 'yamuna']] ['ganga', 'witnesses', 'dangerous', 'crime', 'for', 'days']\n",
            "0.45782273986766686\n",
            "[['ghosh', 'becomes', 'first', 'writer', 'in', 'english', 'to', 'win']] ['ghosh', 'wins', 'oscar', 'winning', 'award', 'by']\n",
            "0.45782273986766686\n",
            "[['unidentified', 'woman', 'body', 'found', 'in', 'bag', 'in', 'noida']] ['unidentified', 'woman', 'body', 'found', 'in', 'bag', 'in', 'noida']\n",
            "1.0\n",
            "[['russia', 'offers', 'hackers', 'services', 'in', 'april', 'fools']] ['russia', 'to', 'introduce', 'facebook', 'post', 'info', 'on', 'april']\n",
            "0.7071067811865476\n",
            "[['firm', 'loss', 'as', 'digital', 'currency', 'fell', 'from', 'to']] ['digital', 'currency', 'exchange', 'to', 'be', 'shut', 'in']\n",
            "0.44815260192961937\n",
            "0.5507143359901132\n"
          ]
        }
      ]
    },
    {
      "cell_type": "markdown",
      "metadata": {
        "id": "AKXdKtenGw33"
      },
      "source": [
        "## Evaluation - ROGUE Score"
      ]
    },
    {
      "cell_type": "code",
      "metadata": {
        "colab": {
          "base_uri": "https://localhost:8080/"
        },
        "id": "asd9nwRKGQsk",
        "outputId": "4dbb6cb0-d779-4b6c-bad1-1b6f696d7926"
      },
      "source": [
        "!pip install rouge_score\n",
        "from rouge_score import rouge_scorer"
      ],
      "execution_count": null,
      "outputs": [
        {
          "output_type": "stream",
          "name": "stdout",
          "text": [
            "Requirement already satisfied: rouge_score in /usr/local/lib/python3.7/dist-packages (0.0.4)\n",
            "Requirement already satisfied: numpy in /usr/local/lib/python3.7/dist-packages (from rouge_score) (1.21.6)\n",
            "Requirement already satisfied: absl-py in /usr/local/lib/python3.7/dist-packages (from rouge_score) (1.0.0)\n",
            "Requirement already satisfied: nltk in /usr/local/lib/python3.7/dist-packages (from rouge_score) (3.2.5)\n",
            "Requirement already satisfied: six>=1.14.0 in /usr/local/lib/python3.7/dist-packages (from rouge_score) (1.15.0)\n"
          ]
        }
      ]
    },
    {
      "cell_type": "code",
      "metadata": {
        "id": "7akfX3ILIASP"
      },
      "source": [
        "scorer = rouge_scorer.RougeScorer(['rouge1', 'rougeL'], use_stemmer=True)\n"
      ],
      "execution_count": null,
      "outputs": []
    },
    {
      "cell_type": "code",
      "metadata": {
        "colab": {
          "base_uri": "https://localhost:8080/"
        },
        "id": "bJD2XEbsIO4L",
        "outputId": "075ad655-61fc-4d92-88f1-2f62f64bb1d2"
      },
      "source": [
        "sum=0;\n",
        "for i in range(40):\n",
        "    print(seq2summary(summaries[i]), predicted[i])\n",
        "    print(scorer.score(seq2summary(summaries[i]), predicted[i]))\n",
        "    # sum=sum+scorer.score(seq2summary(summaries[i]), predicted[i])\n",
        "print(sum)    "
      ],
      "execution_count": null,
      "outputs": [
        {
          "output_type": "stream",
          "name": "stdout",
          "text": [
            "up which did not tricolour may face action   up govt school country to hoist tricolour on day\n",
            "{'rouge1': Score(precision=0.2222222222222222, recall=0.25, fmeasure=0.23529411764705882), 'rougeL': Score(precision=0.2222222222222222, recall=0.25, fmeasure=0.23529411764705882)}\n",
            "pak doctor who helped find bin laden held in jail since   doctor who helped osama bin laden bin laden held released\n",
            "{'rouge1': Score(precision=0.6, recall=0.5454545454545454, fmeasure=0.5714285714285713), 'rougeL': Score(precision=0.6, recall=0.5454545454545454, fmeasure=0.5714285714285713)}\n",
            "startup yoga pants to give correct   startup makes pants to correct yoga videos\n",
            "{'rouge1': Score(precision=0.7142857142857143, recall=0.8333333333333334, fmeasure=0.7692307692307692), 'rougeL': Score(precision=0.5714285714285714, recall=0.6666666666666666, fmeasure=0.6153846153846153)}\n",
            "twitter bug lets two users post character tweet   twitter bug lets users read character in tweet\n",
            "{'rouge1': Score(precision=0.75, recall=0.75, fmeasure=0.75), 'rougeL': Score(precision=0.75, recall=0.75, fmeasure=0.75)}\n",
            "dinosaur bird could fly but in bursts study   dinosaur bird could fly over years study\n",
            "{'rouge1': Score(precision=0.7142857142857143, recall=0.625, fmeasure=0.6666666666666666), 'rougeL': Score(precision=0.7142857142857143, recall=0.625, fmeasure=0.6666666666666666)}\n",
            "yr old man attacks woman with hammer ends life in mumbai   man attacks neighbour with hammer shot in mumbai\n",
            "{'rouge1': Score(precision=0.75, recall=0.5454545454545454, fmeasure=0.631578947368421), 'rougeL': Score(precision=0.75, recall=0.5454545454545454, fmeasure=0.631578947368421)}\n",
            "have to free nation from rape mentality pm modi   free speech of nation free to nation mentality pm modi\n",
            "{'rouge1': Score(precision=0.6, recall=0.6666666666666666, fmeasure=0.631578947368421), 'rougeL': Score(precision=0.5, recall=0.5555555555555556, fmeasure=0.5263157894736842)}\n",
            "we will look very good together varun on starring with katrina   look like varun dhawan on st look from varun\n",
            "{'rouge1': Score(precision=0.3333333333333333, recall=0.2727272727272727, fmeasure=0.3), 'rougeL': Score(precision=0.3333333333333333, recall=0.2727272727272727, fmeasure=0.3)}\n",
            "german killer nurse suspected of more murders police   killer of killer killed in swedish mob funeral\n",
            "{'rouge1': Score(precision=0.25, recall=0.25, fmeasure=0.25), 'rougeL': Score(precision=0.25, recall=0.25, fmeasure=0.25)}\n",
            "india will be open defecation free by oct rajnath   india will open defecation free by oct rajnath\n",
            "{'rouge1': Score(precision=1.0, recall=0.8888888888888888, fmeasure=0.9411764705882353), 'rougeL': Score(precision=1.0, recall=0.8888888888888888, fmeasure=0.9411764705882353)}\n",
            "govt approves amazon proposal for crore fdi in food   govt approves amazon proposal for fdi in food deal\n",
            "{'rouge1': Score(precision=0.8888888888888888, recall=0.8888888888888888, fmeasure=0.8888888888888888), 'rougeL': Score(precision=0.8888888888888888, recall=0.8888888888888888, fmeasure=0.8888888888888888)}\n",
            "would love to see tesla merge with uber says early investor   love love business or both uber uber investor\n",
            "{'rouge1': Score(precision=0.375, recall=0.2727272727272727, fmeasure=0.3157894736842105), 'rougeL': Score(precision=0.375, recall=0.2727272727272727, fmeasure=0.3157894736842105)}\n",
            "us defence department to seize bay art   us defence department to seize bay art\n",
            "{'rouge1': Score(precision=1.0, recall=1.0, fmeasure=1.0), 'rougeL': Score(precision=1.0, recall=1.0, fmeasure=1.0)}\n",
            "win title months after air crash killed team   brazil team wins months after plane crash\n",
            "{'rouge1': Score(precision=0.7142857142857143, recall=0.625, fmeasure=0.6666666666666666), 'rougeL': Score(precision=0.5714285714285714, recall=0.5, fmeasure=0.5333333333333333)}\n",
            "iranian women dance to show support for arrested teenager   iranian women dance to support teenager arrested\n",
            "{'rouge1': Score(precision=1.0, recall=0.7777777777777778, fmeasure=0.8750000000000001), 'rougeL': Score(precision=0.8571428571428571, recall=0.6666666666666666, fmeasure=0.75)}\n",
            "man slaps traffic cop for stopping him for jumping signal   man slaps traffic cop for stopping traffic as traffic\n",
            "{'rouge1': Score(precision=0.6666666666666666, recall=0.6, fmeasure=0.631578947368421), 'rougeL': Score(precision=0.6666666666666666, recall=0.6, fmeasure=0.631578947368421)}\n",
            "rbi guv shaktikanta das is highly corrupt subramanian swamy   rbi guv shaktikanta das is corrupt subramanian swamy\n",
            "{'rouge1': Score(precision=1.0, recall=0.8888888888888888, fmeasure=0.9411764705882353), 'rougeL': Score(precision=1.0, recall=0.8888888888888888, fmeasure=0.9411764705882353)}\n",
            "salute all lives lost during mumbai attacks pm modi   salute of pm modi jawans who died in mumbai pm\n",
            "{'rouge1': Score(precision=0.4, recall=0.4444444444444444, fmeasure=0.4210526315789474), 'rougeL': Score(precision=0.3, recall=0.3333333333333333, fmeasure=0.3157894736842105)}\n",
            "rishi calls cartoon on rk studios fire sick humour   rishi kapoor trolls paparazzi for rk studios fire sick\n",
            "{'rouge1': Score(precision=0.5555555555555556, recall=0.5555555555555556, fmeasure=0.5555555555555556), 'rougeL': Score(precision=0.5555555555555556, recall=0.5555555555555556, fmeasure=0.5555555555555556)}\n",
            "soldier receives ear transplant from ear grown on her arm   us army gets pregnant teen ear after years\n",
            "{'rouge1': Score(precision=0.125, recall=0.1, fmeasure=0.11111111111111112), 'rougeL': Score(precision=0.125, recall=0.1, fmeasure=0.11111111111111112)}\n",
            "nasa planet hunting telescope captures lakh stars in pic   nasa planet hunting telescope captures new planet\n",
            "{'rouge1': Score(precision=0.7142857142857143, recall=0.5555555555555556, fmeasure=0.6250000000000001), 'rougeL': Score(precision=0.7142857142857143, recall=0.5555555555555556, fmeasure=0.6250000000000001)}\n",
            "am on digital swara on twitter account   swara talks about twitter users on twitter users\n",
            "{'rouge1': Score(precision=0.375, recall=0.42857142857142855, fmeasure=0.39999999999999997), 'rougeL': Score(precision=0.375, recall=0.42857142857142855, fmeasure=0.39999999999999997)}\n",
            "resolve issue through dialogue india on venezuela crisis   india is no political country in democracy venezuela\n",
            "{'rouge1': Score(precision=0.25, recall=0.25, fmeasure=0.25), 'rougeL': Score(precision=0.25, recall=0.25, fmeasure=0.25)}\n",
            "xiaomi plans to invest bn in indian startups ceo   xiaomi plans to invest bn in indian startups ceo\n",
            "{'rouge1': Score(precision=1.0, recall=1.0, fmeasure=1.0), 'rougeL': Score(precision=1.0, recall=1.0, fmeasure=1.0)}\n",
            "delhi hosts theatre olympics at red fort   vp naidu inaugurates national flag at delhi red fort\n",
            "{'rouge1': Score(precision=0.4444444444444444, recall=0.5714285714285714, fmeasure=0.5), 'rougeL': Score(precision=0.3333333333333333, recall=0.42857142857142855, fmeasure=0.375)}\n",
            "scientists generate random numbers using particles of light   scientists generate random numbers using particles of light\n",
            "{'rouge1': Score(precision=1.0, recall=1.0, fmeasure=1.0), 'rougeL': Score(precision=1.0, recall=1.0, fmeasure=1.0)}\n",
            "bitcoin share of crypto market hits record low of   bitcoin market cap hits the record high of\n",
            "{'rouge1': Score(precision=0.625, recall=0.5555555555555556, fmeasure=0.5882352941176471), 'rougeL': Score(precision=0.625, recall=0.5555555555555556, fmeasure=0.5882352941176471)}\n",
            "engineers print bricks out of   scientists propose to look for alien dust\n",
            "{'rouge1': Score(precision=0.0, recall=0.0, fmeasure=0.0), 'rougeL': Score(precision=0.0, recall=0.0, fmeasure=0.0)}\n",
            "gana cong goes on hunger strike against mlas suspension   gana cong leaders go on hunger strike over citizenship bill\n",
            "{'rouge1': Score(precision=0.5, recall=0.5555555555555556, fmeasure=0.5263157894736842), 'rougeL': Score(precision=0.5, recall=0.5555555555555556, fmeasure=0.5263157894736842)}\n",
            "note ban gst caused to indian economy world bank   note ban gst caused to in india economy\n",
            "{'rouge1': Score(precision=0.75, recall=0.6666666666666666, fmeasure=0.7058823529411765), 'rougeL': Score(precision=0.75, recall=0.6666666666666666, fmeasure=0.7058823529411765)}\n",
            "india to make its second journey to the moon next year   isro to launch second journey in next years\n",
            "{'rouge1': Score(precision=0.625, recall=0.45454545454545453, fmeasure=0.5263157894736842), 'rougeL': Score(precision=0.625, recall=0.45454545454545453, fmeasure=0.5263157894736842)}\n",
            "couple hacked to death in gana in suspected honour killing   couple suspected of honour killing woman in tripura\n",
            "{'rouge1': Score(precision=0.625, recall=0.5, fmeasure=0.5555555555555556), 'rougeL': Score(precision=0.5, recall=0.4, fmeasure=0.4444444444444445)}\n",
            "presidency not like running business needs heart trump   presidency not responsible for business trump\n",
            "{'rouge1': Score(precision=0.6666666666666666, recall=0.5, fmeasure=0.5714285714285715), 'rougeL': Score(precision=0.6666666666666666, recall=0.5, fmeasure=0.5714285714285715)}\n",
            "oneplus top selling premium smartphone in india   oneplus beats india to become most premium smartphone\n",
            "{'rouge1': Score(precision=0.5, recall=0.5714285714285714, fmeasure=0.5333333333333333), 'rougeL': Score(precision=0.375, recall=0.42857142857142855, fmeasure=0.39999999999999997)}\n",
            "reduce cbse board exam from to weeks govt body   cbse class board may be declared by weeks\n",
            "{'rouge1': Score(precision=0.375, recall=0.3333333333333333, fmeasure=0.35294117647058826), 'rougeL': Score(precision=0.375, recall=0.3333333333333333, fmeasure=0.35294117647058826)}\n",
            "seeks fir for attempt to murder on yamuna   ganga witnesses dangerous crime for days\n",
            "{'rouge1': Score(precision=0.16666666666666666, recall=0.125, fmeasure=0.14285714285714288), 'rougeL': Score(precision=0.16666666666666666, recall=0.125, fmeasure=0.14285714285714288)}\n",
            "ghosh becomes first writer in english to win   ghosh wins oscar winning award by\n",
            "{'rouge1': Score(precision=0.3333333333333333, recall=0.25, fmeasure=0.28571428571428575), 'rougeL': Score(precision=0.3333333333333333, recall=0.25, fmeasure=0.28571428571428575)}\n",
            "unidentified woman body found in bag in noida   unidentified woman body found in bag in noida\n",
            "{'rouge1': Score(precision=1.0, recall=1.0, fmeasure=1.0), 'rougeL': Score(precision=1.0, recall=1.0, fmeasure=1.0)}\n",
            "russia offers hackers services in april fools   russia to introduce facebook post info on april\n",
            "{'rouge1': Score(precision=0.25, recall=0.2857142857142857, fmeasure=0.26666666666666666), 'rougeL': Score(precision=0.25, recall=0.2857142857142857, fmeasure=0.26666666666666666)}\n",
            "firm loss as digital currency fell from to   digital currency exchange to be shut in\n",
            "{'rouge1': Score(precision=0.42857142857142855, recall=0.375, fmeasure=0.39999999999999997), 'rougeL': Score(precision=0.42857142857142855, recall=0.375, fmeasure=0.39999999999999997)}\n",
            "0\n"
          ]
        }
      ]
    },
    {
      "cell_type": "code",
      "metadata": {
        "id": "JiZ5FA6EIdD4"
      },
      "source": [
        "model.save('/content/drive/MyDrive/new 0/model/my_model.h5') "
      ],
      "execution_count": null,
      "outputs": []
    }
  ]
}